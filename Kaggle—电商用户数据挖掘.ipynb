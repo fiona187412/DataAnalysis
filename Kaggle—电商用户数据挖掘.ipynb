{
 "cells": [
  {
   "cell_type": "markdown",
   "metadata": {},
   "source": [
    "# Kaggle电子零售交易之数据挖掘\n",
    "\n",
    "项目链接 : [这是一个项目的传送门哦^_^](https://github.com/fiona187412/DataAnalysis).\n",
    "只是一个没有感情的萌新，不足之处，欢迎指教。\n",
    "## 背景\n",
    "----------\n",
    "在这个以信息和数字为导向的时代,绝大多数的相互作用以及行为是通过网络的,而之前都是人为控制的。电子商务是一个主要的数字通信和信息时代的应用,商品零售是其中较为显著的一个例子。在电子商务中购买和销售行为被转移到能够推广商品以及接受支付的网络、服务器以及网站上。网络零售店所有者必须能够找到根据消费者年龄、性别、地址、社会状态等因素向他们推荐最为合适的产品。\n",
    "本文通过Kaggle电子零售网站的真实数据进行数据挖掘，使用不同模型分析了用户的消费行为。\n",
    "- 首先使用 python 进行数据的信息的提取和分析（简单描述统计、缺失值、异常值处理）；\n",
    "- 其次,从不同角度可视化观察用户消费行为(折线图、饼图、动态可视化)；\n",
    "- 最后,使用了RFM模型、KMeans （机器学习算法）, 对用户进行价值提取；\n",
    "- 获得了合理的方式和信息用于网站管理者优化宣传的效果和对于未来的行为做出正确的决定, 同时基于顾客以往的购买行为能够对每一个顾客做出最为合适的商品推荐。 \n",
    "\n",
    "【数据源】： [这是一个链接哦^_^ ](https://www.kaggle.com/jihyeseo/online-retail-data-set-from-uci-ml-repo).\n",
    "\n",
    "数据集来自一个在英国注册的没有实体店的电子零售公司，在2010年12月1日到2011年12月9日期间发生的网络交易数据。\n",
    "\n",
    "【Note】：\n",
    "- 本次分析为了保证完整性，故选取一整年的交易数据，即从2010年12月1日到2011年12月1日期间的数据。\n",
    "- 原数据集以xlsx格式存储，总共有541909条数据，8个字段，为了后续方便，本次转换为了csv格式。\n",
    "\n",
    " 数据字段介绍\n",
    "\n",
    "| Features  | Description | Type | Size |\n",
    "| :------------: |:---------------:|:------------: |:---------------:|\n",
    "|InvoiceNo | 订单号 | String | 25900 |\n",
    "|StockCode   | 产品编号 | String | 4070 |\n",
    "|Description  | 产品描述 | String | NA |\n",
    "|Quantity  | 每一笔交易中购买的产品数量 | integer | NA|\n",
    "|InvoiceDate | 交易的时间和日期 | datetime | NA\n",
    "|UnitPrice | 产品单价 | float | NA |\n",
    "|CustomerID | 用户ID | String | NA|\n",
    "|Country |用户所在国家 | String | NA |\n",
    "\n",
    "\n",
    "\n",
    "## 分析思路及指标\n",
    "----------\n",
    "\n",
    "#### 1. 数据总览 (Data Describe)\n",
    "\n",
    "- 描述统计分析\n",
    "\n",
    "#### 2. 数据预处理 (Data Preprocessing)\n",
    "\n",
    "- 数据类型转换\n",
    "- 缺失值、异常值处理\n",
    "\n",
    "#### 3. 指标体系 (Index)\n",
    "\n",
    "- 整体运营指标\n",
    "    - 目的：了解电子零售商当前的运营状态\n",
    "    - 用户消费趋势分析（按月）\n",
    "        - 月销售数量\n",
    "        - 月销售总额\n",
    "        - 月均销售额\n",
    "    - （按周）\n",
    "        - 周销售数量\n",
    "        - 周销售总额\n",
    "        - 周均销售额\n",
    "    - 效率指标\n",
    "        - 客单价\n",
    "        - 产品件单价\n",
    "        - 连带率\n",
    "    - 退货指标\n",
    "        - 退货金额\n",
    "        - 退货数量\n",
    "        - 退货用户数\n",
    "- 产品指标\n",
    "    - 目的：了解产品的优劣\n",
    "    - 销量最高的产品\n",
    "    - 销售金额占比最高的产品\n",
    "    - 价值用户喜欢一起购买的产品\n",
    "    \n",
    "- RFM 模型指标 / Kmeans 模型\n",
    "    - 目的： 挖掘潜在价值用户，指导运营策略的设计与执行\n",
    "    - Recency\n",
    "    - Frequency\n",
    "    - Monetary\n",
    "- 价值用户行为指标\n",
    "    -目的：了解用户的消费习惯\n",
    "    - 用户首次、最近一次消费时间\n",
    "    - 新老客户占比\n",
    "    - 用户购买周期（按订单）\n",
    "    - 用户生命周期 (按第一次 & 最后一次消费)\n",
    "    \n",
    "#### 4. 模型构建 (Bulid Model)\n",
    "\n",
    "- RFM 用户价值模型\n",
    "- Kmeans 机器学习模型\n",
    "\n",
    "#### 5. 模型评估 (Evaluate)\n",
    "- PCA 降维可视化分析\n",
    "- Silhouette Coefficient \n",
    "- Calinski-Harabaz Index \n",
    "\n",
    "#### 6. 总结 (Conclusion)\n",
    "\n",
    "\n",
    "#### 致谢（Acknowledge）\n",
    "- [Cohort Analysis & Customer Segmentation with RFM](https://www.kaggle.com/mahmoudelfahl/cohort-analysis-customer-segmentation-with-rfm#Recency,-Frequency-and-Monetary-Value-calculation).\n",
    "- [Cohort Analysis: Beginners Guide to Improving Retention](https://clevertap.com/blog/cohort-analysis/).\n",
    "- [RFM analysis for Customer Segmentation](https://clevertap.com/blog/rfm-analysis/).\n",
    "- [从电子零售交易数据挖掘价值用户](https://zhuanlan.zhihu.com/p/62146715).\n"
   ]
  },
  {
   "cell_type": "code",
   "execution_count": 1,
   "metadata": {},
   "outputs": [],
   "source": [
    "import pandas as pd\n",
    "import numpy as np\n",
    "\n",
    "import datetime as dt\n",
    "\n",
    "\n",
    "import matplotlib.pyplot as plt\n",
    "import seaborn as sns\n",
    "\n",
    "from pyecharts.charts import Line\n",
    "from pyecharts import options as opts \n",
    "\n",
    "%matplotlib inline\n",
    "plt.rcParams['font.sans-serif']=['SimHei']\n",
    "plt.rcParams['axes.unicode_minus']=False\n",
    "plt.style.use('ggplot')\n",
    "\n",
    "from sklearn.preprocessing import StandardScaler\n",
    "from sklearn.cluster import KMeans\n"
   ]
  },
  {
   "cell_type": "code",
   "execution_count": 2,
   "metadata": {},
   "outputs": [
    {
     "data": {
      "text/html": [
       "<div>\n",
       "<style scoped>\n",
       "    .dataframe tbody tr th:only-of-type {\n",
       "        vertical-align: middle;\n",
       "    }\n",
       "\n",
       "    .dataframe tbody tr th {\n",
       "        vertical-align: top;\n",
       "    }\n",
       "\n",
       "    .dataframe thead th {\n",
       "        text-align: right;\n",
       "    }\n",
       "</style>\n",
       "<table border=\"1\" class=\"dataframe\">\n",
       "  <thead>\n",
       "    <tr style=\"text-align: right;\">\n",
       "      <th></th>\n",
       "      <th>InvoiceNo</th>\n",
       "      <th>StockCode</th>\n",
       "      <th>Description</th>\n",
       "      <th>Quantity</th>\n",
       "      <th>InvoiceDate</th>\n",
       "      <th>UnitPrice</th>\n",
       "      <th>CustomerID</th>\n",
       "      <th>Country</th>\n",
       "    </tr>\n",
       "  </thead>\n",
       "  <tbody>\n",
       "    <tr>\n",
       "      <th>0</th>\n",
       "      <td>536365</td>\n",
       "      <td>85123A</td>\n",
       "      <td>WHITE HANGING HEART T-LIGHT HOLDER</td>\n",
       "      <td>6</td>\n",
       "      <td>2010/12/1 8:26</td>\n",
       "      <td>2.55</td>\n",
       "      <td>17850.0</td>\n",
       "      <td>United Kingdom</td>\n",
       "    </tr>\n",
       "    <tr>\n",
       "      <th>1</th>\n",
       "      <td>536365</td>\n",
       "      <td>71053</td>\n",
       "      <td>WHITE METAL LANTERN</td>\n",
       "      <td>6</td>\n",
       "      <td>2010/12/1 8:26</td>\n",
       "      <td>3.39</td>\n",
       "      <td>17850.0</td>\n",
       "      <td>United Kingdom</td>\n",
       "    </tr>\n",
       "    <tr>\n",
       "      <th>2</th>\n",
       "      <td>536365</td>\n",
       "      <td>84406B</td>\n",
       "      <td>CREAM CUPID HEARTS COAT HANGER</td>\n",
       "      <td>8</td>\n",
       "      <td>2010/12/1 8:26</td>\n",
       "      <td>2.75</td>\n",
       "      <td>17850.0</td>\n",
       "      <td>United Kingdom</td>\n",
       "    </tr>\n",
       "    <tr>\n",
       "      <th>3</th>\n",
       "      <td>536365</td>\n",
       "      <td>84029G</td>\n",
       "      <td>KNITTED UNION FLAG HOT WATER BOTTLE</td>\n",
       "      <td>6</td>\n",
       "      <td>2010/12/1 8:26</td>\n",
       "      <td>3.39</td>\n",
       "      <td>17850.0</td>\n",
       "      <td>United Kingdom</td>\n",
       "    </tr>\n",
       "    <tr>\n",
       "      <th>4</th>\n",
       "      <td>536365</td>\n",
       "      <td>84029E</td>\n",
       "      <td>RED WOOLLY HOTTIE WHITE HEART.</td>\n",
       "      <td>6</td>\n",
       "      <td>2010/12/1 8:26</td>\n",
       "      <td>3.39</td>\n",
       "      <td>17850.0</td>\n",
       "      <td>United Kingdom</td>\n",
       "    </tr>\n",
       "  </tbody>\n",
       "</table>\n",
       "</div>"
      ],
      "text/plain": [
       "  InvoiceNo StockCode                          Description  Quantity  \\\n",
       "0    536365    85123A   WHITE HANGING HEART T-LIGHT HOLDER         6   \n",
       "1    536365     71053                  WHITE METAL LANTERN         6   \n",
       "2    536365    84406B       CREAM CUPID HEARTS COAT HANGER         8   \n",
       "3    536365    84029G  KNITTED UNION FLAG HOT WATER BOTTLE         6   \n",
       "4    536365    84029E       RED WOOLLY HOTTIE WHITE HEART.         6   \n",
       "\n",
       "      InvoiceDate  UnitPrice  CustomerID         Country  \n",
       "0  2010/12/1 8:26       2.55     17850.0  United Kingdom  \n",
       "1  2010/12/1 8:26       3.39     17850.0  United Kingdom  \n",
       "2  2010/12/1 8:26       2.75     17850.0  United Kingdom  \n",
       "3  2010/12/1 8:26       3.39     17850.0  United Kingdom  \n",
       "4  2010/12/1 8:26       3.39     17850.0  United Kingdom  "
      ]
     },
     "execution_count": 2,
     "metadata": {},
     "output_type": "execute_result"
    }
   ],
   "source": [
    "df = pd.read_csv('Online-Retail.csv')\n",
    "df.head()"
   ]
  },
  {
   "cell_type": "markdown",
   "metadata": {},
   "source": [
    "#### 理解数据\n",
    "\n",
    "| Features  | Description | Type | Size |\n",
    "| :------------: |:---------------:|:------------: |:---------------:|\n",
    "|InvoiceNo | 订单号 | String | 25900 |\n",
    "|StockCode   | 产品编号 | String | 4070 |\n",
    "|Description  | 产品描述 | String | NA |\n",
    "|Quantity  | 每一笔交易中购买的产品数量 | integer | NA|\n",
    "|InvoiceDate | 交易的时间和日期 | datetime | NA\n",
    "|UnitPrice | 产品单价 | float | NA |\n",
    "|CustomerID | 用户ID | String | NA|\n",
    "|Country |用户所在国家 | String | NA |\n"
   ]
  },
  {
   "cell_type": "code",
   "execution_count": 3,
   "metadata": {},
   "outputs": [
    {
     "name": "stdout",
     "output_type": "stream",
     "text": [
      "<class 'pandas.core.frame.DataFrame'>\n",
      "RangeIndex: 541909 entries, 0 to 541908\n",
      "Data columns (total 8 columns):\n",
      "InvoiceNo      541909 non-null object\n",
      "StockCode      541909 non-null object\n",
      "Description    540455 non-null object\n",
      "Quantity       541909 non-null int64\n",
      "InvoiceDate    541909 non-null object\n",
      "UnitPrice      541909 non-null float64\n",
      "CustomerID     406829 non-null float64\n",
      "Country        541909 non-null object\n",
      "dtypes: float64(2), int64(1), object(5)\n",
      "memory usage: 33.1+ MB\n"
     ]
    }
   ],
   "source": [
    "df.info()"
   ]
  },
  {
   "cell_type": "markdown",
   "metadata": {},
   "source": [
    "#### 【注意】\n",
    "- CustomerID 、description 存在缺失，需要进行处理\n",
    "- 检查和处理重复数据\n",
    "- InvoiceDate 需要处理成时间格式\n",
    "- 新建两列（月份/天）方便后续数据指标加工"
   ]
  },
  {
   "cell_type": "code",
   "execution_count": 4,
   "metadata": {},
   "outputs": [
    {
     "data": {
      "text/plain": [
       "InvoiceNo           0\n",
       "StockCode           0\n",
       "Description      1454\n",
       "Quantity            0\n",
       "InvoiceDate         0\n",
       "UnitPrice           0\n",
       "CustomerID     135080\n",
       "Country             0\n",
       "dtype: int64"
      ]
     },
     "execution_count": 4,
     "metadata": {},
     "output_type": "execute_result"
    }
   ],
   "source": [
    "###缺失数据检查与处理\n",
    "df.isnull().sum()"
   ]
  },
  {
   "cell_type": "code",
   "execution_count": 5,
   "metadata": {},
   "outputs": [
    {
     "data": {
      "text/plain": [
       "0"
      ]
     },
     "execution_count": 5,
     "metadata": {},
     "output_type": "execute_result"
    }
   ],
   "source": [
    "### 缺失值直接按行删除\n",
    "df = df.dropna(subset=['CustomerID'])\n",
    "df.isnull().sum().sum()"
   ]
  },
  {
   "cell_type": "code",
   "execution_count": 6,
   "metadata": {},
   "outputs": [
    {
     "data": {
      "text/plain": [
       "5225"
      ]
     },
     "execution_count": 6,
     "metadata": {},
     "output_type": "execute_result"
    }
   ],
   "source": [
    "### 重复数据检查\n",
    "df.duplicated().sum()\n"
   ]
  },
  {
   "cell_type": "code",
   "execution_count": 7,
   "metadata": {},
   "outputs": [
    {
     "data": {
      "text/plain": [
       "0"
      ]
     },
     "execution_count": 7,
     "metadata": {},
     "output_type": "execute_result"
    }
   ],
   "source": [
    "### 重复数据删除\n",
    "df = df.drop_duplicates()\n",
    "df.duplicated().sum()"
   ]
  },
  {
   "cell_type": "code",
   "execution_count": 8,
   "metadata": {},
   "outputs": [],
   "source": [
    "### 转换日期\n",
    "df['InvoiceDate'] = pd.to_datetime(df['InvoiceDate'], format='%Y-%m-%d')\n",
    "\n",
    "### 新建年份、月份列\n",
    "df['year'] = df['InvoiceDate'].apply(lambda x: x.year )\n",
    "df['month'] = df['InvoiceDate'].apply(lambda x: x.month)"
   ]
  },
  {
   "cell_type": "code",
   "execution_count": 9,
   "metadata": {},
   "outputs": [
    {
     "data": {
      "text/html": [
       "<div>\n",
       "<style scoped>\n",
       "    .dataframe tbody tr th:only-of-type {\n",
       "        vertical-align: middle;\n",
       "    }\n",
       "\n",
       "    .dataframe tbody tr th {\n",
       "        vertical-align: top;\n",
       "    }\n",
       "\n",
       "    .dataframe thead th {\n",
       "        text-align: right;\n",
       "    }\n",
       "</style>\n",
       "<table border=\"1\" class=\"dataframe\">\n",
       "  <thead>\n",
       "    <tr style=\"text-align: right;\">\n",
       "      <th></th>\n",
       "      <th>InvoiceNo</th>\n",
       "      <th>StockCode</th>\n",
       "      <th>Description</th>\n",
       "      <th>Quantity</th>\n",
       "      <th>InvoiceDate</th>\n",
       "      <th>UnitPrice</th>\n",
       "      <th>CustomerID</th>\n",
       "      <th>Country</th>\n",
       "      <th>year</th>\n",
       "      <th>month</th>\n",
       "    </tr>\n",
       "  </thead>\n",
       "  <tbody>\n",
       "    <tr>\n",
       "      <th>0</th>\n",
       "      <td>536365</td>\n",
       "      <td>85123A</td>\n",
       "      <td>WHITE HANGING HEART T-LIGHT HOLDER</td>\n",
       "      <td>6</td>\n",
       "      <td>2010-12-01 08:26:00</td>\n",
       "      <td>2.55</td>\n",
       "      <td>17850.0</td>\n",
       "      <td>United Kingdom</td>\n",
       "      <td>2010</td>\n",
       "      <td>12</td>\n",
       "    </tr>\n",
       "    <tr>\n",
       "      <th>1</th>\n",
       "      <td>536365</td>\n",
       "      <td>71053</td>\n",
       "      <td>WHITE METAL LANTERN</td>\n",
       "      <td>6</td>\n",
       "      <td>2010-12-01 08:26:00</td>\n",
       "      <td>3.39</td>\n",
       "      <td>17850.0</td>\n",
       "      <td>United Kingdom</td>\n",
       "      <td>2010</td>\n",
       "      <td>12</td>\n",
       "    </tr>\n",
       "    <tr>\n",
       "      <th>2</th>\n",
       "      <td>536365</td>\n",
       "      <td>84406B</td>\n",
       "      <td>CREAM CUPID HEARTS COAT HANGER</td>\n",
       "      <td>8</td>\n",
       "      <td>2010-12-01 08:26:00</td>\n",
       "      <td>2.75</td>\n",
       "      <td>17850.0</td>\n",
       "      <td>United Kingdom</td>\n",
       "      <td>2010</td>\n",
       "      <td>12</td>\n",
       "    </tr>\n",
       "    <tr>\n",
       "      <th>3</th>\n",
       "      <td>536365</td>\n",
       "      <td>84029G</td>\n",
       "      <td>KNITTED UNION FLAG HOT WATER BOTTLE</td>\n",
       "      <td>6</td>\n",
       "      <td>2010-12-01 08:26:00</td>\n",
       "      <td>3.39</td>\n",
       "      <td>17850.0</td>\n",
       "      <td>United Kingdom</td>\n",
       "      <td>2010</td>\n",
       "      <td>12</td>\n",
       "    </tr>\n",
       "    <tr>\n",
       "      <th>4</th>\n",
       "      <td>536365</td>\n",
       "      <td>84029E</td>\n",
       "      <td>RED WOOLLY HOTTIE WHITE HEART.</td>\n",
       "      <td>6</td>\n",
       "      <td>2010-12-01 08:26:00</td>\n",
       "      <td>3.39</td>\n",
       "      <td>17850.0</td>\n",
       "      <td>United Kingdom</td>\n",
       "      <td>2010</td>\n",
       "      <td>12</td>\n",
       "    </tr>\n",
       "  </tbody>\n",
       "</table>\n",
       "</div>"
      ],
      "text/plain": [
       "  InvoiceNo StockCode                          Description  Quantity  \\\n",
       "0    536365    85123A   WHITE HANGING HEART T-LIGHT HOLDER         6   \n",
       "1    536365     71053                  WHITE METAL LANTERN         6   \n",
       "2    536365    84406B       CREAM CUPID HEARTS COAT HANGER         8   \n",
       "3    536365    84029G  KNITTED UNION FLAG HOT WATER BOTTLE         6   \n",
       "4    536365    84029E       RED WOOLLY HOTTIE WHITE HEART.         6   \n",
       "\n",
       "          InvoiceDate  UnitPrice  CustomerID         Country  year  month  \n",
       "0 2010-12-01 08:26:00       2.55     17850.0  United Kingdom  2010     12  \n",
       "1 2010-12-01 08:26:00       3.39     17850.0  United Kingdom  2010     12  \n",
       "2 2010-12-01 08:26:00       2.75     17850.0  United Kingdom  2010     12  \n",
       "3 2010-12-01 08:26:00       3.39     17850.0  United Kingdom  2010     12  \n",
       "4 2010-12-01 08:26:00       3.39     17850.0  United Kingdom  2010     12  "
      ]
     },
     "execution_count": 9,
     "metadata": {},
     "output_type": "execute_result"
    }
   ],
   "source": [
    "df.head()"
   ]
  },
  {
   "cell_type": "code",
   "execution_count": 10,
   "metadata": {},
   "outputs": [
    {
     "name": "stdout",
     "output_type": "stream",
     "text": [
      "<class 'pandas.core.frame.DataFrame'>\n",
      "Int64Index: 401604 entries, 0 to 541908\n",
      "Data columns (total 10 columns):\n",
      "InvoiceNo      401604 non-null object\n",
      "StockCode      401604 non-null object\n",
      "Description    401604 non-null object\n",
      "Quantity       401604 non-null int64\n",
      "InvoiceDate    401604 non-null datetime64[ns]\n",
      "UnitPrice      401604 non-null float64\n",
      "CustomerID     401604 non-null float64\n",
      "Country        401604 non-null object\n",
      "year           401604 non-null int64\n",
      "month          401604 non-null int64\n",
      "dtypes: datetime64[ns](1), float64(2), int64(3), object(4)\n",
      "memory usage: 33.7+ MB\n"
     ]
    }
   ],
   "source": [
    "df.info()"
   ]
  },
  {
   "cell_type": "code",
   "execution_count": 11,
   "metadata": {},
   "outputs": [
    {
     "data": {
      "text/html": [
       "<div>\n",
       "<style scoped>\n",
       "    .dataframe tbody tr th:only-of-type {\n",
       "        vertical-align: middle;\n",
       "    }\n",
       "\n",
       "    .dataframe tbody tr th {\n",
       "        vertical-align: top;\n",
       "    }\n",
       "\n",
       "    .dataframe thead th {\n",
       "        text-align: right;\n",
       "    }\n",
       "</style>\n",
       "<table border=\"1\" class=\"dataframe\">\n",
       "  <thead>\n",
       "    <tr style=\"text-align: right;\">\n",
       "      <th></th>\n",
       "      <th>Quantity</th>\n",
       "      <th>UnitPrice</th>\n",
       "      <th>CustomerID</th>\n",
       "      <th>year</th>\n",
       "      <th>month</th>\n",
       "    </tr>\n",
       "  </thead>\n",
       "  <tbody>\n",
       "    <tr>\n",
       "      <th>count</th>\n",
       "      <td>401604.000000</td>\n",
       "      <td>401604.000000</td>\n",
       "      <td>401604.000000</td>\n",
       "      <td>401604.000000</td>\n",
       "      <td>401604.000000</td>\n",
       "    </tr>\n",
       "    <tr>\n",
       "      <th>mean</th>\n",
       "      <td>12.183273</td>\n",
       "      <td>3.474064</td>\n",
       "      <td>15281.160818</td>\n",
       "      <td>2010.934378</td>\n",
       "      <td>7.595407</td>\n",
       "    </tr>\n",
       "    <tr>\n",
       "      <th>std</th>\n",
       "      <td>250.283037</td>\n",
       "      <td>69.764035</td>\n",
       "      <td>1714.006089</td>\n",
       "      <td>0.247620</td>\n",
       "      <td>3.417451</td>\n",
       "    </tr>\n",
       "    <tr>\n",
       "      <th>min</th>\n",
       "      <td>-80995.000000</td>\n",
       "      <td>0.000000</td>\n",
       "      <td>12346.000000</td>\n",
       "      <td>2010.000000</td>\n",
       "      <td>1.000000</td>\n",
       "    </tr>\n",
       "    <tr>\n",
       "      <th>25%</th>\n",
       "      <td>2.000000</td>\n",
       "      <td>1.250000</td>\n",
       "      <td>13939.000000</td>\n",
       "      <td>2011.000000</td>\n",
       "      <td>5.000000</td>\n",
       "    </tr>\n",
       "    <tr>\n",
       "      <th>50%</th>\n",
       "      <td>5.000000</td>\n",
       "      <td>1.950000</td>\n",
       "      <td>15145.000000</td>\n",
       "      <td>2011.000000</td>\n",
       "      <td>8.000000</td>\n",
       "    </tr>\n",
       "    <tr>\n",
       "      <th>75%</th>\n",
       "      <td>12.000000</td>\n",
       "      <td>3.750000</td>\n",
       "      <td>16784.000000</td>\n",
       "      <td>2011.000000</td>\n",
       "      <td>11.000000</td>\n",
       "    </tr>\n",
       "    <tr>\n",
       "      <th>max</th>\n",
       "      <td>80995.000000</td>\n",
       "      <td>38970.000000</td>\n",
       "      <td>18287.000000</td>\n",
       "      <td>2011.000000</td>\n",
       "      <td>12.000000</td>\n",
       "    </tr>\n",
       "  </tbody>\n",
       "</table>\n",
       "</div>"
      ],
      "text/plain": [
       "            Quantity      UnitPrice     CustomerID           year  \\\n",
       "count  401604.000000  401604.000000  401604.000000  401604.000000   \n",
       "mean       12.183273       3.474064   15281.160818    2010.934378   \n",
       "std       250.283037      69.764035    1714.006089       0.247620   \n",
       "min    -80995.000000       0.000000   12346.000000    2010.000000   \n",
       "25%         2.000000       1.250000   13939.000000    2011.000000   \n",
       "50%         5.000000       1.950000   15145.000000    2011.000000   \n",
       "75%        12.000000       3.750000   16784.000000    2011.000000   \n",
       "max     80995.000000   38970.000000   18287.000000    2011.000000   \n",
       "\n",
       "               month  \n",
       "count  401604.000000  \n",
       "mean        7.595407  \n",
       "std         3.417451  \n",
       "min         1.000000  \n",
       "25%         5.000000  \n",
       "50%         8.000000  \n",
       "75%        11.000000  \n",
       "max        12.000000  "
      ]
     },
     "execution_count": 11,
     "metadata": {},
     "output_type": "execute_result"
    }
   ],
   "source": [
    "df.describe()"
   ]
  },
  {
   "cell_type": "markdown",
   "metadata": {},
   "source": [
    "-  Quantity(数量) ： Min= -80995 ，mean = 12.18， median = 5 ，max = 80995，可以观察到mean > median ,呈 right skew ，且 min ，max 都很大，存在异常值\n",
    "- UnitPrice (单价)： Min = 0， Mean = 3.47， median = 1.95， max = 38970 . mean > median ，呈现 right skew， 并且max 非常大，存在异常点\n",
    "- 需要对该两列的异常值进行筛除"
   ]
  },
  {
   "cell_type": "code",
   "execution_count": 12,
   "metadata": {},
   "outputs": [
    {
     "data": {
      "text/html": [
       "<div>\n",
       "<style scoped>\n",
       "    .dataframe tbody tr th:only-of-type {\n",
       "        vertical-align: middle;\n",
       "    }\n",
       "\n",
       "    .dataframe tbody tr th {\n",
       "        vertical-align: top;\n",
       "    }\n",
       "\n",
       "    .dataframe thead th {\n",
       "        text-align: right;\n",
       "    }\n",
       "</style>\n",
       "<table border=\"1\" class=\"dataframe\">\n",
       "  <thead>\n",
       "    <tr style=\"text-align: right;\">\n",
       "      <th></th>\n",
       "      <th>Quantity</th>\n",
       "      <th>UnitPrice</th>\n",
       "      <th>CustomerID</th>\n",
       "      <th>year</th>\n",
       "      <th>month</th>\n",
       "    </tr>\n",
       "  </thead>\n",
       "  <tbody>\n",
       "    <tr>\n",
       "      <th>count</th>\n",
       "      <td>392692.000000</td>\n",
       "      <td>392692.000000</td>\n",
       "      <td>392692.000000</td>\n",
       "      <td>392692.000000</td>\n",
       "      <td>392692.000000</td>\n",
       "    </tr>\n",
       "    <tr>\n",
       "      <th>mean</th>\n",
       "      <td>13.119702</td>\n",
       "      <td>3.125914</td>\n",
       "      <td>15287.843865</td>\n",
       "      <td>2010.934631</td>\n",
       "      <td>7.601871</td>\n",
       "    </tr>\n",
       "    <tr>\n",
       "      <th>std</th>\n",
       "      <td>180.492832</td>\n",
       "      <td>22.241836</td>\n",
       "      <td>1713.539549</td>\n",
       "      <td>0.247177</td>\n",
       "      <td>3.415015</td>\n",
       "    </tr>\n",
       "    <tr>\n",
       "      <th>min</th>\n",
       "      <td>1.000000</td>\n",
       "      <td>0.001000</td>\n",
       "      <td>12346.000000</td>\n",
       "      <td>2010.000000</td>\n",
       "      <td>1.000000</td>\n",
       "    </tr>\n",
       "    <tr>\n",
       "      <th>25%</th>\n",
       "      <td>2.000000</td>\n",
       "      <td>1.250000</td>\n",
       "      <td>13955.000000</td>\n",
       "      <td>2011.000000</td>\n",
       "      <td>5.000000</td>\n",
       "    </tr>\n",
       "    <tr>\n",
       "      <th>50%</th>\n",
       "      <td>6.000000</td>\n",
       "      <td>1.950000</td>\n",
       "      <td>15150.000000</td>\n",
       "      <td>2011.000000</td>\n",
       "      <td>8.000000</td>\n",
       "    </tr>\n",
       "    <tr>\n",
       "      <th>75%</th>\n",
       "      <td>12.000000</td>\n",
       "      <td>3.750000</td>\n",
       "      <td>16791.000000</td>\n",
       "      <td>2011.000000</td>\n",
       "      <td>11.000000</td>\n",
       "    </tr>\n",
       "    <tr>\n",
       "      <th>max</th>\n",
       "      <td>80995.000000</td>\n",
       "      <td>8142.750000</td>\n",
       "      <td>18287.000000</td>\n",
       "      <td>2011.000000</td>\n",
       "      <td>12.000000</td>\n",
       "    </tr>\n",
       "  </tbody>\n",
       "</table>\n",
       "</div>"
      ],
      "text/plain": [
       "            Quantity      UnitPrice     CustomerID           year  \\\n",
       "count  392692.000000  392692.000000  392692.000000  392692.000000   \n",
       "mean       13.119702       3.125914   15287.843865    2010.934631   \n",
       "std       180.492832      22.241836    1713.539549       0.247177   \n",
       "min         1.000000       0.001000   12346.000000    2010.000000   \n",
       "25%         2.000000       1.250000   13955.000000    2011.000000   \n",
       "50%         6.000000       1.950000   15150.000000    2011.000000   \n",
       "75%        12.000000       3.750000   16791.000000    2011.000000   \n",
       "max     80995.000000    8142.750000   18287.000000    2011.000000   \n",
       "\n",
       "               month  \n",
       "count  392692.000000  \n",
       "mean        7.601871  \n",
       "std         3.415015  \n",
       "min         1.000000  \n",
       "25%         5.000000  \n",
       "50%         8.000000  \n",
       "75%        11.000000  \n",
       "max        12.000000  "
      ]
     },
     "execution_count": 12,
     "metadata": {},
     "output_type": "execute_result"
    }
   ],
   "source": [
    "df = df[(df ['Quantity'] > 0) &(df['UnitPrice'] > 0)]\n",
    "df.describe()"
   ]
  },
  {
   "cell_type": "code",
   "execution_count": 13,
   "metadata": {},
   "outputs": [],
   "source": [
    "df= df[~( df['InvoiceDate'] < '2011-12-01') == False] "
   ]
  },
  {
   "cell_type": "code",
   "execution_count": 14,
   "metadata": {},
   "outputs": [
    {
     "data": {
      "text/html": [
       "<div>\n",
       "<style scoped>\n",
       "    .dataframe tbody tr th:only-of-type {\n",
       "        vertical-align: middle;\n",
       "    }\n",
       "\n",
       "    .dataframe tbody tr th {\n",
       "        vertical-align: top;\n",
       "    }\n",
       "\n",
       "    .dataframe thead th {\n",
       "        text-align: right;\n",
       "    }\n",
       "</style>\n",
       "<table border=\"1\" class=\"dataframe\">\n",
       "  <thead>\n",
       "    <tr style=\"text-align: right;\">\n",
       "      <th></th>\n",
       "      <th>InvoiceNo</th>\n",
       "      <th>StockCode</th>\n",
       "      <th>Description</th>\n",
       "      <th>Quantity</th>\n",
       "      <th>InvoiceDate</th>\n",
       "      <th>UnitPrice</th>\n",
       "      <th>CustomerID</th>\n",
       "      <th>Country</th>\n",
       "      <th>year</th>\n",
       "      <th>month</th>\n",
       "    </tr>\n",
       "  </thead>\n",
       "  <tbody>\n",
       "    <tr>\n",
       "      <th>0</th>\n",
       "      <td>536365</td>\n",
       "      <td>85123A</td>\n",
       "      <td>WHITE HANGING HEART T-LIGHT HOLDER</td>\n",
       "      <td>6</td>\n",
       "      <td>2010-12-01 08:26:00</td>\n",
       "      <td>2.55</td>\n",
       "      <td>17850.0</td>\n",
       "      <td>United Kingdom</td>\n",
       "      <td>2010</td>\n",
       "      <td>12</td>\n",
       "    </tr>\n",
       "    <tr>\n",
       "      <th>1</th>\n",
       "      <td>536365</td>\n",
       "      <td>71053</td>\n",
       "      <td>WHITE METAL LANTERN</td>\n",
       "      <td>6</td>\n",
       "      <td>2010-12-01 08:26:00</td>\n",
       "      <td>3.39</td>\n",
       "      <td>17850.0</td>\n",
       "      <td>United Kingdom</td>\n",
       "      <td>2010</td>\n",
       "      <td>12</td>\n",
       "    </tr>\n",
       "    <tr>\n",
       "      <th>2</th>\n",
       "      <td>536365</td>\n",
       "      <td>84406B</td>\n",
       "      <td>CREAM CUPID HEARTS COAT HANGER</td>\n",
       "      <td>8</td>\n",
       "      <td>2010-12-01 08:26:00</td>\n",
       "      <td>2.75</td>\n",
       "      <td>17850.0</td>\n",
       "      <td>United Kingdom</td>\n",
       "      <td>2010</td>\n",
       "      <td>12</td>\n",
       "    </tr>\n",
       "    <tr>\n",
       "      <th>3</th>\n",
       "      <td>536365</td>\n",
       "      <td>84029G</td>\n",
       "      <td>KNITTED UNION FLAG HOT WATER BOTTLE</td>\n",
       "      <td>6</td>\n",
       "      <td>2010-12-01 08:26:00</td>\n",
       "      <td>3.39</td>\n",
       "      <td>17850.0</td>\n",
       "      <td>United Kingdom</td>\n",
       "      <td>2010</td>\n",
       "      <td>12</td>\n",
       "    </tr>\n",
       "    <tr>\n",
       "      <th>4</th>\n",
       "      <td>536365</td>\n",
       "      <td>84029E</td>\n",
       "      <td>RED WOOLLY HOTTIE WHITE HEART.</td>\n",
       "      <td>6</td>\n",
       "      <td>2010-12-01 08:26:00</td>\n",
       "      <td>3.39</td>\n",
       "      <td>17850.0</td>\n",
       "      <td>United Kingdom</td>\n",
       "      <td>2010</td>\n",
       "      <td>12</td>\n",
       "    </tr>\n",
       "    <tr>\n",
       "      <th>...</th>\n",
       "      <td>...</td>\n",
       "      <td>...</td>\n",
       "      <td>...</td>\n",
       "      <td>...</td>\n",
       "      <td>...</td>\n",
       "      <td>...</td>\n",
       "      <td>...</td>\n",
       "      <td>...</td>\n",
       "      <td>...</td>\n",
       "      <td>...</td>\n",
       "    </tr>\n",
       "    <tr>\n",
       "      <th>516364</th>\n",
       "      <td>579885</td>\n",
       "      <td>85034C</td>\n",
       "      <td>3 ROSE MORRIS BOXED CANDLES</td>\n",
       "      <td>4</td>\n",
       "      <td>2011-11-30 17:37:00</td>\n",
       "      <td>1.25</td>\n",
       "      <td>15444.0</td>\n",
       "      <td>United Kingdom</td>\n",
       "      <td>2011</td>\n",
       "      <td>11</td>\n",
       "    </tr>\n",
       "    <tr>\n",
       "      <th>516365</th>\n",
       "      <td>579885</td>\n",
       "      <td>21742</td>\n",
       "      <td>LARGE ROUND WICKER PLATTER</td>\n",
       "      <td>2</td>\n",
       "      <td>2011-11-30 17:37:00</td>\n",
       "      <td>5.95</td>\n",
       "      <td>15444.0</td>\n",
       "      <td>United Kingdom</td>\n",
       "      <td>2011</td>\n",
       "      <td>11</td>\n",
       "    </tr>\n",
       "    <tr>\n",
       "      <th>516366</th>\n",
       "      <td>579885</td>\n",
       "      <td>23084</td>\n",
       "      <td>RABBIT NIGHT LIGHT</td>\n",
       "      <td>6</td>\n",
       "      <td>2011-11-30 17:37:00</td>\n",
       "      <td>2.08</td>\n",
       "      <td>15444.0</td>\n",
       "      <td>United Kingdom</td>\n",
       "      <td>2011</td>\n",
       "      <td>11</td>\n",
       "    </tr>\n",
       "    <tr>\n",
       "      <th>516367</th>\n",
       "      <td>579885</td>\n",
       "      <td>21257</td>\n",
       "      <td>VICTORIAN SEWING BOX MEDIUM</td>\n",
       "      <td>1</td>\n",
       "      <td>2011-11-30 17:37:00</td>\n",
       "      <td>7.95</td>\n",
       "      <td>15444.0</td>\n",
       "      <td>United Kingdom</td>\n",
       "      <td>2011</td>\n",
       "      <td>11</td>\n",
       "    </tr>\n",
       "    <tr>\n",
       "      <th>516368</th>\n",
       "      <td>579885</td>\n",
       "      <td>21259</td>\n",
       "      <td>VICTORIAN SEWING BOX SMALL</td>\n",
       "      <td>1</td>\n",
       "      <td>2011-11-30 17:37:00</td>\n",
       "      <td>5.95</td>\n",
       "      <td>15444.0</td>\n",
       "      <td>United Kingdom</td>\n",
       "      <td>2011</td>\n",
       "      <td>11</td>\n",
       "    </tr>\n",
       "  </tbody>\n",
       "</table>\n",
       "<p>375666 rows × 10 columns</p>\n",
       "</div>"
      ],
      "text/plain": [
       "       InvoiceNo StockCode                          Description  Quantity  \\\n",
       "0         536365    85123A   WHITE HANGING HEART T-LIGHT HOLDER         6   \n",
       "1         536365     71053                  WHITE METAL LANTERN         6   \n",
       "2         536365    84406B       CREAM CUPID HEARTS COAT HANGER         8   \n",
       "3         536365    84029G  KNITTED UNION FLAG HOT WATER BOTTLE         6   \n",
       "4         536365    84029E       RED WOOLLY HOTTIE WHITE HEART.         6   \n",
       "...          ...       ...                                  ...       ...   \n",
       "516364    579885    85034C          3 ROSE MORRIS BOXED CANDLES         4   \n",
       "516365    579885     21742          LARGE ROUND WICKER PLATTER          2   \n",
       "516366    579885     23084                   RABBIT NIGHT LIGHT         6   \n",
       "516367    579885     21257          VICTORIAN SEWING BOX MEDIUM         1   \n",
       "516368    579885     21259          VICTORIAN SEWING BOX SMALL          1   \n",
       "\n",
       "               InvoiceDate  UnitPrice  CustomerID         Country  year  month  \n",
       "0      2010-12-01 08:26:00       2.55     17850.0  United Kingdom  2010     12  \n",
       "1      2010-12-01 08:26:00       3.39     17850.0  United Kingdom  2010     12  \n",
       "2      2010-12-01 08:26:00       2.75     17850.0  United Kingdom  2010     12  \n",
       "3      2010-12-01 08:26:00       3.39     17850.0  United Kingdom  2010     12  \n",
       "4      2010-12-01 08:26:00       3.39     17850.0  United Kingdom  2010     12  \n",
       "...                    ...        ...         ...             ...   ...    ...  \n",
       "516364 2011-11-30 17:37:00       1.25     15444.0  United Kingdom  2011     11  \n",
       "516365 2011-11-30 17:37:00       5.95     15444.0  United Kingdom  2011     11  \n",
       "516366 2011-11-30 17:37:00       2.08     15444.0  United Kingdom  2011     11  \n",
       "516367 2011-11-30 17:37:00       7.95     15444.0  United Kingdom  2011     11  \n",
       "516368 2011-11-30 17:37:00       5.95     15444.0  United Kingdom  2011     11  \n",
       "\n",
       "[375666 rows x 10 columns]"
      ]
     },
     "execution_count": 14,
     "metadata": {},
     "output_type": "execute_result"
    }
   ],
   "source": [
    "df"
   ]
  },
  {
   "cell_type": "code",
   "execution_count": 15,
   "metadata": {},
   "outputs": [
    {
     "data": {
      "text/plain": [
       "0         True\n",
       "1         True\n",
       "2         True\n",
       "3         True\n",
       "4         True\n",
       "          ... \n",
       "516364    True\n",
       "516365    True\n",
       "516366    True\n",
       "516367    True\n",
       "516368    True\n",
       "Name: InvoiceDate, Length: 375666, dtype: bool"
      ]
     },
     "execution_count": 15,
     "metadata": {},
     "output_type": "execute_result"
    }
   ],
   "source": [
    "df['InvoiceDate'] < '2011-12-01'"
   ]
  },
  {
   "cell_type": "markdown",
   "metadata": {},
   "source": [
    "### 运营指标"
   ]
  },
  {
   "cell_type": "markdown",
   "metadata": {},
   "source": [
    "- 每月交易订单量 （Monthly transaction）\n",
    "- 每月销售额\n",
    "- 每月均销售额"
   ]
  },
  {
   "cell_type": "code",
   "execution_count": 16,
   "metadata": {},
   "outputs": [],
   "source": [
    "#### 因为一个订单包含多个产品，需要去重，多个商品在同一个订单的仅计算一个订单\n",
    "month_group = df.groupby(['year','month'])\n",
    "month_order = month_group.InvoiceNo.apply(lambda x : len(np.unique(x)))"
   ]
  },
  {
   "cell_type": "code",
   "execution_count": 17,
   "metadata": {},
   "outputs": [],
   "source": [
    "#### \n",
    "df['Amount'] = df.Quantity * df.UnitPrice\n",
    "month_amount = df.groupby(['year','month']).Amount.sum()"
   ]
  },
  {
   "cell_type": "code",
   "execution_count": 18,
   "metadata": {},
   "outputs": [
    {
     "data": {
      "text/plain": [
       "year  month\n",
       "2010  12       1400\n",
       "2011  1         987\n",
       "      2         997\n",
       "      3        1321\n",
       "      4        1149\n",
       "      5        1555\n",
       "      6        1393\n",
       "      7        1331\n",
       "      8        1280\n",
       "      9        1755\n",
       "      10       1929\n",
       "      11       2657\n",
       "Name: InvoiceNo, dtype: int64"
      ]
     },
     "execution_count": 18,
     "metadata": {},
     "output_type": "execute_result"
    }
   ],
   "source": [
    "month_order"
   ]
  },
  {
   "cell_type": "code",
   "execution_count": 19,
   "metadata": {},
   "outputs": [
    {
     "data": {
      "text/plain": [
       "year  month\n",
       "2010  12        570422.730\n",
       "2011  1         568101.310\n",
       "      2         446084.920\n",
       "      3         594081.760\n",
       "      4         468374.331\n",
       "      5         677355.150\n",
       "      6         660046.050\n",
       "      7         598962.901\n",
       "      8         644051.040\n",
       "      9         950690.202\n",
       "      10       1035642.450\n",
       "      11       1156205.610\n",
       "Name: Amount, dtype: float64"
      ]
     },
     "execution_count": 19,
     "metadata": {},
     "output_type": "execute_result"
    }
   ],
   "source": [
    "month_amount"
   ]
  },
  {
   "cell_type": "code",
   "execution_count": 20,
   "metadata": {},
   "outputs": [
    {
     "data": {
      "text/plain": [
       "697501.54"
      ]
     },
     "execution_count": 20,
     "metadata": {},
     "output_type": "execute_result"
    }
   ],
   "source": [
    "avg_monthamount=round(month_amount.sum() / 12, 2)\n",
    "avg_monthamount"
   ]
  },
  {
   "cell_type": "markdown",
   "metadata": {},
   "source": [
    "#### 将每个交易日期转换成星期进行统计"
   ]
  },
  {
   "cell_type": "code",
   "execution_count": 21,
   "metadata": {},
   "outputs": [],
   "source": [
    "df['week'] = df.InvoiceDate.map(lambda x:x.weekday())\n",
    "week_group = df.groupby('week')\n",
    "week_order = week_group.InvoiceNo.apply(lambda x : len(np.unique(x)))"
   ]
  },
  {
   "cell_type": "code",
   "execution_count": 22,
   "metadata": {},
   "outputs": [
    {
     "data": {
      "text/plain": [
       "week\n",
       "0    2747\n",
       "1    3074\n",
       "2    3351\n",
       "3    3801\n",
       "4    2674\n",
       "6    2107\n",
       "Name: InvoiceNo, dtype: int64"
      ]
     },
     "execution_count": 22,
     "metadata": {},
     "output_type": "execute_result"
    }
   ],
   "source": [
    "week_order "
   ]
  },
  {
   "cell_type": "code",
   "execution_count": 23,
   "metadata": {},
   "outputs": [
    {
     "data": {
      "text/plain": [
       "week\n",
       "0    1305523.311\n",
       "1    1651744.141\n",
       "2    1515053.230\n",
       "3    1878214.400\n",
       "4    1254225.051\n",
       "6     765258.321\n",
       "Name: Amount, dtype: float64"
      ]
     },
     "execution_count": 23,
     "metadata": {},
     "output_type": "execute_result"
    }
   ],
   "source": [
    "week_amount = df.groupby(['week']).Amount.sum()\n",
    "week_amount "
   ]
  },
  {
   "cell_type": "code",
   "execution_count": 24,
   "metadata": {},
   "outputs": [
    {
     "data": {
      "text/plain": [
       "1395003.08"
      ]
     },
     "execution_count": 24,
     "metadata": {},
     "output_type": "execute_result"
    }
   ],
   "source": [
    "week_avg = round(week_amount.sum()/6,2)\n",
    "week_avg"
   ]
  },
  {
   "cell_type": "markdown",
   "metadata": {},
   "source": [
    "- 源数据集里没有 5 (即星期六，可以姑且认为系统星期六不开放，进行维护或其他)"
   ]
  },
  {
   "cell_type": "code",
   "execution_count": 25,
   "metadata": {},
   "outputs": [
    {
     "data": {
      "image/png": "[encoded data removed]",
      "text/plain": [
       "<Figure size 1080x720 with 4 Axes>"
      ]
     },
     "metadata": {},
     "output_type": "display_data"
    }
   ],
   "source": [
    "#### 绘图\n",
    "plt.figure(figsize=(15, 10))\n",
    "###   按月\n",
    "plt.subplot(2,2,1)\n",
    "month_order.plot(title='Fig 1. 每月订单总量')\n",
    "plt.xlabel('Month')\n",
    "plt.ylabel('订单量（件）')\n",
    "\n",
    "plt.subplot(2,2,2)\n",
    "month_amount.plot(title='Fig 2. 每月订单总额')\n",
    "plt.axhline(y=avg_monthamount,color=\"blue\",ls=\"--\")\n",
    "plt.xlabel('Month')\n",
    "plt.ylabel('总额（美元）')\n",
    "\n",
    "###   按周\n",
    "plt.subplot(2,2,3)\n",
    "week_order.plot(title='Fig 3. 每周订单总量')\n",
    "plt.xlabel('Weekly')\n",
    "plt.ylabel('订单量（件）')\n",
    "\n",
    "plt.subplot(2,2,4)\n",
    "week_amount.plot(title='Fig 4. 每周订单总额')\n",
    "plt.axhline(y=week_avg,color=\"blue\",ls=\"--\")\n",
    "plt.xlabel('Weekly')\n",
    "plt.ylabel('总额（美元）')\n",
    "plt.subplots_adjust( hspace=0.4)\n",
    "plt.show()"
   ]
  },
  {
   "cell_type": "code",
   "execution_count": 26,
   "metadata": {},
   "outputs": [
    {
     "data": {
      "text/html": [
       "\n",
       "<script>\n",
       "    require.config({\n",
       "        paths: {\n",
       "            'echarts':'https://assets.pyecharts.org/assets/echarts.min'\n",
       "        }\n",
       "    });\n",
       "</script>\n",
       "\n",
       "        <div id=\"49d8e824bc704784bcb4c74fe1b2773d\" style=\"width:900px; height:500px;\"></div>\n",
       "\n",
       "<script>\n",
       "        require(['echarts'], function(echarts) {\n",
       "                var chart_49d8e824bc704784bcb4c74fe1b2773d = echarts.init(\n",
       "                    document.getElementById('49d8e824bc704784bcb4c74fe1b2773d'), 'white', {renderer: 'canvas'});\n",
       "                var option_49d8e824bc704784bcb4c74fe1b2773d = {\n",
       "    \"animation\": true,\n",
       "    \"animationThreshold\": 2000,\n",
       "    \"animationDuration\": 1000,\n",
       "    \"animationEasing\": \"cubicOut\",\n",
       "    \"animationDelay\": 0,\n",
       "    \"animationDurationUpdate\": 300,\n",
       "    \"animationEasingUpdate\": \"cubicOut\",\n",
       "    \"animationDelayUpdate\": 0,\n",
       "    \"color\": [\n",
       "        \"#c23531\",\n",
       "        \"#2f4554\",\n",
       "        \"#61a0a8\",\n",
       "        \"#d48265\",\n",
       "        \"#749f83\",\n",
       "        \"#ca8622\",\n",
       "        \"#bda29a\",\n",
       "        \"#6e7074\",\n",
       "        \"#546570\",\n",
       "        \"#c4ccd3\",\n",
       "        \"#f05b72\",\n",
       "        \"#ef5b9c\",\n",
       "        \"#f47920\",\n",
       "        \"#905a3d\",\n",
       "        \"#fab27b\",\n",
       "        \"#2a5caa\",\n",
       "        \"#444693\",\n",
       "        \"#726930\",\n",
       "        \"#b2d235\",\n",
       "        \"#6d8346\",\n",
       "        \"#ac6767\",\n",
       "        \"#1d953f\",\n",
       "        \"#6950a1\",\n",
       "        \"#918597\"\n",
       "    ],\n",
       "    \"series\": [\n",
       "        {\n",
       "            \"type\": \"line\",\n",
       "            \"name\": \"\\u6d88\\u8d39\\u603b\\u989d\\uff08\\u82f1\\u9551\\uff09\",\n",
       "            \"connectNulls\": false,\n",
       "            \"symbolSize\": 4,\n",
       "            \"showSymbol\": true,\n",
       "            \"smooth\": false,\n",
       "            \"step\": false,\n",
       "            \"data\": [\n",
       "                [\n",
       "                    \"Mon\",\n",
       "                    1305523.31\n",
       "                ],\n",
       "                [\n",
       "                    \"Tue\",\n",
       "                    1651744.14\n",
       "                ],\n",
       "                [\n",
       "                    \"Wed\",\n",
       "                    1515053.23\n",
       "                ],\n",
       "                [\n",
       "                    \"Thur\",\n",
       "                    1878214.4\n",
       "                ],\n",
       "                [\n",
       "                    \"Fri\",\n",
       "                    1254225.05\n",
       "                ],\n",
       "                [\n",
       "                    \"Sun\",\n",
       "                    765258.32\n",
       "                ]\n",
       "            ],\n",
       "            \"hoverAnimation\": true,\n",
       "            \"label\": {\n",
       "                \"show\": true,\n",
       "                \"position\": \"top\",\n",
       "                \"margin\": 8\n",
       "            },\n",
       "            \"lineStyle\": {\n",
       "                \"show\": true,\n",
       "                \"width\": 2,\n",
       "                \"opacity\": 1,\n",
       "                \"curveness\": 0,\n",
       "                \"type\": \"solid\",\n",
       "                \"color\": \"red\"\n",
       "            },\n",
       "            \"areaStyle\": {\n",
       "                \"opacity\": 0\n",
       "            },\n",
       "            \"markPoint\": {\n",
       "                \"label\": {\n",
       "                    \"show\": true,\n",
       "                    \"position\": \"inside\",\n",
       "                    \"color\": \"#fff\",\n",
       "                    \"margin\": 8\n",
       "                },\n",
       "                \"data\": [\n",
       "                    {\n",
       "                        \"type\": \"max\"\n",
       "                    }\n",
       "                ]\n",
       "            },\n",
       "            \"markLine\": {\n",
       "                \"silent\": false,\n",
       "                \"precision\": 2,\n",
       "                \"label\": {\n",
       "                    \"show\": true,\n",
       "                    \"position\": \"top\",\n",
       "                    \"margin\": 8\n",
       "                },\n",
       "                \"data\": [\n",
       "                    {\n",
       "                        \"type\": \"average\"\n",
       "                    }\n",
       "                ]\n",
       "            },\n",
       "            \"zlevel\": 0,\n",
       "            \"z\": 0\n",
       "        }\n",
       "    ],\n",
       "    \"legend\": [\n",
       "        {\n",
       "            \"data\": [\n",
       "                \"\\u6d88\\u8d39\\u603b\\u989d\\uff08\\u82f1\\u9551\\uff09\"\n",
       "            ],\n",
       "            \"selected\": {\n",
       "                \"\\u6d88\\u8d39\\u603b\\u989d\\uff08\\u82f1\\u9551\\uff09\": true\n",
       "            },\n",
       "            \"show\": true,\n",
       "            \"padding\": 5,\n",
       "            \"itemGap\": 10,\n",
       "            \"itemWidth\": 25,\n",
       "            \"itemHeight\": 14\n",
       "        }\n",
       "    ],\n",
       "    \"tooltip\": {\n",
       "        \"show\": true,\n",
       "        \"trigger\": \"item\",\n",
       "        \"triggerOn\": \"mousemove|click\",\n",
       "        \"axisPointer\": {\n",
       "            \"type\": \"line\"\n",
       "        },\n",
       "        \"textStyle\": {\n",
       "            \"fontSize\": 14\n",
       "        },\n",
       "        \"borderWidth\": 0\n",
       "    },\n",
       "    \"xAxis\": [\n",
       "        {\n",
       "            \"show\": true,\n",
       "            \"scale\": false,\n",
       "            \"nameLocation\": \"end\",\n",
       "            \"nameGap\": 15,\n",
       "            \"gridIndex\": 0,\n",
       "            \"inverse\": false,\n",
       "            \"offset\": 0,\n",
       "            \"splitNumber\": 5,\n",
       "            \"minInterval\": 0,\n",
       "            \"splitLine\": {\n",
       "                \"show\": false,\n",
       "                \"lineStyle\": {\n",
       "                    \"show\": true,\n",
       "                    \"width\": 1,\n",
       "                    \"opacity\": 1,\n",
       "                    \"curveness\": 0,\n",
       "                    \"type\": \"solid\"\n",
       "                }\n",
       "            },\n",
       "            \"data\": [\n",
       "                \"Mon\",\n",
       "                \"Tue\",\n",
       "                \"Wed\",\n",
       "                \"Thur\",\n",
       "                \"Fri\",\n",
       "                \"Sun\"\n",
       "            ]\n",
       "        }\n",
       "    ],\n",
       "    \"yAxis\": [\n",
       "        {\n",
       "            \"show\": true,\n",
       "            \"scale\": false,\n",
       "            \"nameLocation\": \"end\",\n",
       "            \"nameGap\": 15,\n",
       "            \"gridIndex\": 0,\n",
       "            \"inverse\": false,\n",
       "            \"offset\": 0,\n",
       "            \"splitNumber\": 5,\n",
       "            \"minInterval\": 0,\n",
       "            \"splitLine\": {\n",
       "                \"show\": false,\n",
       "                \"lineStyle\": {\n",
       "                    \"show\": true,\n",
       "                    \"width\": 1,\n",
       "                    \"opacity\": 1,\n",
       "                    \"curveness\": 0,\n",
       "                    \"type\": \"solid\"\n",
       "                }\n",
       "            }\n",
       "        }\n",
       "    ],\n",
       "    \"title\": [\n",
       "        {\n",
       "            \"text\": \"\\u6bcf\\u5468\\u8ba2\\u5355\\u603b\\u989d\",\n",
       "            \"padding\": 5,\n",
       "            \"itemGap\": 10\n",
       "        }\n",
       "    ]\n",
       "};\n",
       "                chart_49d8e824bc704784bcb4c74fe1b2773d.setOption(option_49d8e824bc704784bcb4c74fe1b2773d);\n",
       "        });\n",
       "    </script>\n"
      ],
      "text/plain": [
       "<pyecharts.render.display.HTML at 0x19cec9594e0>"
      ]
     },
     "execution_count": 26,
     "metadata": {},
     "output_type": "execute_result"
    }
   ],
   "source": [
    "\n",
    "line_chart = Line()\n",
    "line_chart.add_xaxis(list(['Mon', 'Tue','Wed','Thur','Fri','Sun']))\n",
    "line_chart.add_yaxis(\"消费总额（英镑）\",\n",
    "                     list(round(week_amount, 2)),\n",
    "                     linestyle_opts=opts.LineStyleOpts(color='red',width=2),\n",
    "                     markline_opts=opts.MarkLineOpts(data=[opts.MarkLineItem(type_='average')]),\n",
    "                     markpoint_opts=opts.MarkPointOpts(data=[opts.MarkPointItem(type_='max')])\n",
    "                    )\n",
    "line_chart.set_global_opts(\n",
    "title_opts=opts.TitleOpts(title=\"每周订单总额\"))\n",
    "line_chart.render_notebook()\n",
    "# line_chart.render('Weekly_Amount.html')"
   ]
  },
  {
   "cell_type": "markdown",
   "metadata": {},
   "source": [
    "- 客单价 = 销售总额 / 总用户数 "
   ]
  },
  {
   "cell_type": "code",
   "execution_count": 27,
   "metadata": {},
   "outputs": [
    {
     "data": {
      "text/plain": [
       "1947.87"
      ]
     },
     "execution_count": 27,
     "metadata": {},
     "output_type": "execute_result"
    }
   ],
   "source": [
    "per_customer_amount = round(df.Amount.sum() / (df.drop_duplicates(subset=['CustomerID']).shape[0]), 2)\n",
    "per_customer_amount"
   ]
  },
  {
   "cell_type": "markdown",
   "metadata": {},
   "source": [
    "- 件单价 = 销售总额 / 订单总数 "
   ]
  },
  {
   "cell_type": "code",
   "execution_count": 28,
   "metadata": {},
   "outputs": [
    {
     "data": {
      "text/plain": [
       "1.72"
      ]
     },
     "execution_count": 28,
     "metadata": {},
     "output_type": "execute_result"
    }
   ],
   "source": [
    "per_Item = round(df.Amount.sum()/ df.Quantity.sum(), 2) \n",
    "per_Item"
   ]
  },
  {
   "cell_type": "markdown",
   "metadata": {},
   "source": [
    "- 连带率 = 销售产品总数 / 总交易次数"
   ]
  },
  {
   "cell_type": "code",
   "execution_count": 29,
   "metadata": {},
   "outputs": [
    {
     "data": {
      "text/plain": [
       "274.04"
      ]
     },
     "execution_count": 29,
     "metadata": {},
     "output_type": "execute_result"
    }
   ],
   "source": [
    "joint_Rate = round(df.Quantity.sum() / (df.drop_duplicates(subset=['InvoiceNo']).shape[0]), 2 )\n",
    "joint_Rate"
   ]
  },
  {
   "cell_type": "code",
   "execution_count": null,
   "metadata": {},
   "outputs": [],
   "source": []
  },
  {
   "cell_type": "markdown",
   "metadata": {},
   "source": [
    "- 退货金额：原始数据集中以c开头的订单号为退货订单 "
   ]
  },
  {
   "cell_type": "code",
   "execution_count": 30,
   "metadata": {},
   "outputs": [
    {
     "data": {
      "text/plain": [
       "array([False])"
      ]
     },
     "execution_count": 30,
     "metadata": {},
     "output_type": "execute_result"
    }
   ],
   "source": [
    "refund=df.loc[:,'InvoiceNo'].str.startswith('c')\n",
    "refund.unique()"
   ]
  },
  {
   "cell_type": "markdown",
   "metadata": {},
   "source": [
    "返回 array([False])，则表示该数据集中不包含退货订单。因此本次不做退货的分析"
   ]
  },
  {
   "cell_type": "markdown",
   "metadata": {},
   "source": [
    "#### RFM 用户分层\n",
    "- 计算出RFM模型的每一个指标，\n",
    "- 采用K-means clustering alrogithm算法将用户进行分组从而找出最具有价值的用户群。"
   ]
  },
  {
   "cell_type": "markdown",
   "metadata": {},
   "source": [
    "【Note】\n",
    "- 在实际生活中，我们会使用今天或者昨天的购买数据作为最近一次的消费快照"
   ]
  },
  {
   "cell_type": "code",
   "execution_count": 31,
   "metadata": {},
   "outputs": [
    {
     "data": {
      "text/plain": [
       "Timestamp('2011-12-01 17:37:00')"
      ]
     },
     "execution_count": 31,
     "metadata": {},
     "output_type": "execute_result"
    }
   ],
   "source": [
    "snapshot_date = df['InvoiceDate'].max() + dt.timedelta(days=1)\n",
    "snapshot_date\n",
    "#The last day of purchase in total is 09 DEC, 2011. To calculate the day periods, \n",
    "#let's set one day after the last one,or \n",
    "#10 DEC as a snapshot_date. We will cound the diff days with snapshot_date."
   ]
  },
  {
   "cell_type": "code",
   "execution_count": 32,
   "metadata": {},
   "outputs": [],
   "source": [
    "rfm = df.pivot_table(index  = 'CustomerID',\n",
    "                     values = ['InvoiceNo', 'Amount', 'InvoiceDate'],\n",
    "                     aggfunc = {\n",
    "                        'InvoiceNo': 'count',\n",
    "                        'Amount': 'sum',\n",
    "                        'InvoiceDate': lambda x : (snapshot_date - x.max()).days\n",
    "                    })\n",
    "\n"
   ]
  },
  {
   "cell_type": "code",
   "execution_count": 33,
   "metadata": {},
   "outputs": [],
   "source": [
    "rfm.rename(columns={'InvoiceDate':'Recency',\n",
    "                    'InvoiceNo':'Frequency',\n",
    "                    'Amount': 'Monetary'}, inplace=True)"
   ]
  },
  {
   "cell_type": "code",
   "execution_count": 34,
   "metadata": {},
   "outputs": [
    {
     "data": {
      "text/html": [
       "<div>\n",
       "<style scoped>\n",
       "    .dataframe tbody tr th:only-of-type {\n",
       "        vertical-align: middle;\n",
       "    }\n",
       "\n",
       "    .dataframe tbody tr th {\n",
       "        vertical-align: top;\n",
       "    }\n",
       "\n",
       "    .dataframe thead th {\n",
       "        text-align: right;\n",
       "    }\n",
       "</style>\n",
       "<table border=\"1\" class=\"dataframe\">\n",
       "  <thead>\n",
       "    <tr style=\"text-align: right;\">\n",
       "      <th></th>\n",
       "      <th>Monetary</th>\n",
       "      <th>Recency</th>\n",
       "      <th>Frequency</th>\n",
       "    </tr>\n",
       "    <tr>\n",
       "      <th>CustomerID</th>\n",
       "      <th></th>\n",
       "      <th></th>\n",
       "      <th></th>\n",
       "    </tr>\n",
       "  </thead>\n",
       "  <tbody>\n",
       "    <tr>\n",
       "      <th>12346.0</th>\n",
       "      <td>77183.60</td>\n",
       "      <td>317</td>\n",
       "      <td>1</td>\n",
       "    </tr>\n",
       "    <tr>\n",
       "      <th>12347.0</th>\n",
       "      <td>4085.18</td>\n",
       "      <td>31</td>\n",
       "      <td>171</td>\n",
       "    </tr>\n",
       "    <tr>\n",
       "      <th>12348.0</th>\n",
       "      <td>1797.24</td>\n",
       "      <td>67</td>\n",
       "      <td>31</td>\n",
       "    </tr>\n",
       "    <tr>\n",
       "      <th>12349.0</th>\n",
       "      <td>1757.55</td>\n",
       "      <td>10</td>\n",
       "      <td>73</td>\n",
       "    </tr>\n",
       "    <tr>\n",
       "      <th>12350.0</th>\n",
       "      <td>334.40</td>\n",
       "      <td>302</td>\n",
       "      <td>17</td>\n",
       "    </tr>\n",
       "  </tbody>\n",
       "</table>\n",
       "</div>"
      ],
      "text/plain": [
       "            Monetary  Recency  Frequency\n",
       "CustomerID                              \n",
       "12346.0     77183.60      317          1\n",
       "12347.0      4085.18       31        171\n",
       "12348.0      1797.24       67         31\n",
       "12349.0      1757.55       10         73\n",
       "12350.0       334.40      302         17"
      ]
     },
     "execution_count": 34,
     "metadata": {},
     "output_type": "execute_result"
    }
   ],
   "source": [
    "rfm.head()"
   ]
  },
  {
   "cell_type": "code",
   "execution_count": 35,
   "metadata": {},
   "outputs": [
    {
     "data": {
      "text/html": [
       "<div>\n",
       "<style scoped>\n",
       "    .dataframe tbody tr th:only-of-type {\n",
       "        vertical-align: middle;\n",
       "    }\n",
       "\n",
       "    .dataframe tbody tr th {\n",
       "        vertical-align: top;\n",
       "    }\n",
       "\n",
       "    .dataframe thead th {\n",
       "        text-align: right;\n",
       "    }\n",
       "</style>\n",
       "<table border=\"1\" class=\"dataframe\">\n",
       "  <thead>\n",
       "    <tr style=\"text-align: right;\">\n",
       "      <th></th>\n",
       "      <th>Monetary</th>\n",
       "      <th>Recency</th>\n",
       "      <th>Frequency</th>\n",
       "    </tr>\n",
       "  </thead>\n",
       "  <tbody>\n",
       "    <tr>\n",
       "      <th>count</th>\n",
       "      <td>4297.000000</td>\n",
       "      <td>4297.000000</td>\n",
       "      <td>4297.00000</td>\n",
       "    </tr>\n",
       "    <tr>\n",
       "      <th>mean</th>\n",
       "      <td>1947.874902</td>\n",
       "      <td>91.460088</td>\n",
       "      <td>87.42518</td>\n",
       "    </tr>\n",
       "    <tr>\n",
       "      <th>std</th>\n",
       "      <td>8351.696003</td>\n",
       "      <td>98.574043</td>\n",
       "      <td>213.64727</td>\n",
       "    </tr>\n",
       "    <tr>\n",
       "      <th>min</th>\n",
       "      <td>2.900000</td>\n",
       "      <td>1.000000</td>\n",
       "      <td>1.00000</td>\n",
       "    </tr>\n",
       "    <tr>\n",
       "      <th>25%</th>\n",
       "      <td>303.160000</td>\n",
       "      <td>16.000000</td>\n",
       "      <td>17.00000</td>\n",
       "    </tr>\n",
       "    <tr>\n",
       "      <th>50%</th>\n",
       "      <td>650.750000</td>\n",
       "      <td>50.000000</td>\n",
       "      <td>40.00000</td>\n",
       "    </tr>\n",
       "    <tr>\n",
       "      <th>75%</th>\n",
       "      <td>1594.230000</td>\n",
       "      <td>146.000000</td>\n",
       "      <td>96.00000</td>\n",
       "    </tr>\n",
       "    <tr>\n",
       "      <th>max</th>\n",
       "      <td>268478.000000</td>\n",
       "      <td>365.000000</td>\n",
       "      <td>7212.00000</td>\n",
       "    </tr>\n",
       "  </tbody>\n",
       "</table>\n",
       "</div>"
      ],
      "text/plain": [
       "            Monetary      Recency   Frequency\n",
       "count    4297.000000  4297.000000  4297.00000\n",
       "mean     1947.874902    91.460088    87.42518\n",
       "std      8351.696003    98.574043   213.64727\n",
       "min         2.900000     1.000000     1.00000\n",
       "25%       303.160000    16.000000    17.00000\n",
       "50%       650.750000    50.000000    40.00000\n",
       "75%      1594.230000   146.000000    96.00000\n",
       "max    268478.000000   365.000000  7212.00000"
      ]
     },
     "execution_count": 35,
     "metadata": {},
     "output_type": "execute_result"
    }
   ],
   "source": [
    "rfm.describe()"
   ]
  },
  {
   "cell_type": "code",
   "execution_count": 36,
   "metadata": {},
   "outputs": [],
   "source": [
    "#### 使用 切比雪夫定理筛出异常值 +- 3* std"
   ]
  },
  {
   "cell_type": "code",
   "execution_count": 37,
   "metadata": {},
   "outputs": [
    {
     "data": {
      "text/plain": [
       "<matplotlib.axes._subplots.AxesSubplot at 0x19ced0d7518>"
      ]
     },
     "execution_count": 37,
     "metadata": {},
     "output_type": "execute_result"
    },
    {
     "data": {
      "image/png": "[encoded data removed]",
      "text/plain": [
       "<Figure size 432x288 with 1 Axes>"
      ]
     },
     "metadata": {},
     "output_type": "display_data"
    }
   ],
   "source": [
    "\n",
    "rfm.query('Frequency<40+3*214').Frequency.hist(bins=15)"
   ]
  },
  {
   "cell_type": "code",
   "execution_count": 38,
   "metadata": {},
   "outputs": [
    {
     "data": {
      "text/plain": [
       "(1, 20]        1230\n",
       "(20, 40]        878\n",
       "(40, 60]        502\n",
       "(200, 1000]     397\n",
       "(60, 80]        329\n",
       "(80, 100]       272\n",
       "(100, 120]      200\n",
       "(120, 140]      143\n",
       "(140, 160]      112\n",
       "(160, 180]       82\n",
       "(180, 200]       63\n",
       "Name: Frequency, dtype: int64"
      ]
     },
     "execution_count": 38,
     "metadata": {},
     "output_type": "execute_result"
    }
   ],
   "source": [
    "#Bin information\n",
    "bins2=[1,20,40,60,80,100,120,140,160,180,200,1000]\n",
    "pd.cut(rfm.Frequency,bins2).value_counts()"
   ]
  },
  {
   "cell_type": "markdown",
   "metadata": {},
   "source": [
    "可以看到呈长尾分布，即大部分用户消费次数较少，而少部分用户消费次数少，但金额大。"
   ]
  },
  {
   "cell_type": "markdown",
   "metadata": {},
   "source": [
    "建立用户行为评分机制，评分从1-4，对于recency标签，数值越大评分越小，因为商家喜欢近期活跃的用户，对于frequency购买频率以及monetary消费总额是越大评分越高。"
   ]
  },
  {
   "cell_type": "code",
   "execution_count": 39,
   "metadata": {},
   "outputs": [],
   "source": [
    "#Building RFM segments\n",
    "r_labels =range(4,0,-1)\n",
    "f_labels=range(1,5)\n",
    "m_labels=range(1,5)"
   ]
  },
  {
   "cell_type": "markdown",
   "metadata": {},
   "source": [
    "根据RFM用户三个标签对用户行为进行划分，使用了pd.qcut函数对每个标签下的数据进行4等分，并且赋予评分。"
   ]
  },
  {
   "cell_type": "code",
   "execution_count": 40,
   "metadata": {},
   "outputs": [],
   "source": [
    "r_quartiles = pd.qcut(rfm['Recency'], q=4, labels = r_labels)\n",
    "f_quartiles = pd.qcut(rfm['Frequency'],q=4, labels = f_labels)\n",
    "m_quartiles = pd.qcut(rfm['Monetary'],q=4,labels = m_labels)\n",
    "rfm = rfm.assign(R=r_quartiles,F=f_quartiles,M=m_quartiles)"
   ]
  },
  {
   "cell_type": "markdown",
   "metadata": {},
   "source": [
    "有了RFM每个标签的评分后进行统计和算出每一位用户的最终得分，这里是把每个标签的评分相加。"
   ]
  },
  {
   "cell_type": "code",
   "execution_count": 41,
   "metadata": {},
   "outputs": [
    {
     "data": {
      "text/html": [
       "<div>\n",
       "<style scoped>\n",
       "    .dataframe tbody tr th:only-of-type {\n",
       "        vertical-align: middle;\n",
       "    }\n",
       "\n",
       "    .dataframe tbody tr th {\n",
       "        vertical-align: top;\n",
       "    }\n",
       "\n",
       "    .dataframe thead th {\n",
       "        text-align: right;\n",
       "    }\n",
       "</style>\n",
       "<table border=\"1\" class=\"dataframe\">\n",
       "  <thead>\n",
       "    <tr style=\"text-align: right;\">\n",
       "      <th></th>\n",
       "      <th>Monetary</th>\n",
       "      <th>Recency</th>\n",
       "      <th>Frequency</th>\n",
       "      <th>R</th>\n",
       "      <th>F</th>\n",
       "      <th>M</th>\n",
       "      <th>RFM_Segment</th>\n",
       "      <th>RFM_Score</th>\n",
       "    </tr>\n",
       "    <tr>\n",
       "      <th>CustomerID</th>\n",
       "      <th></th>\n",
       "      <th></th>\n",
       "      <th></th>\n",
       "      <th></th>\n",
       "      <th></th>\n",
       "      <th></th>\n",
       "      <th></th>\n",
       "      <th></th>\n",
       "    </tr>\n",
       "  </thead>\n",
       "  <tbody>\n",
       "    <tr>\n",
       "      <th>12346.0</th>\n",
       "      <td>77183.60</td>\n",
       "      <td>317</td>\n",
       "      <td>1</td>\n",
       "      <td>1</td>\n",
       "      <td>1</td>\n",
       "      <td>4</td>\n",
       "      <td>114</td>\n",
       "      <td>6.0</td>\n",
       "    </tr>\n",
       "    <tr>\n",
       "      <th>12347.0</th>\n",
       "      <td>4085.18</td>\n",
       "      <td>31</td>\n",
       "      <td>171</td>\n",
       "      <td>3</td>\n",
       "      <td>4</td>\n",
       "      <td>4</td>\n",
       "      <td>344</td>\n",
       "      <td>11.0</td>\n",
       "    </tr>\n",
       "    <tr>\n",
       "      <th>12348.0</th>\n",
       "      <td>1797.24</td>\n",
       "      <td>67</td>\n",
       "      <td>31</td>\n",
       "      <td>2</td>\n",
       "      <td>2</td>\n",
       "      <td>4</td>\n",
       "      <td>224</td>\n",
       "      <td>8.0</td>\n",
       "    </tr>\n",
       "    <tr>\n",
       "      <th>12349.0</th>\n",
       "      <td>1757.55</td>\n",
       "      <td>10</td>\n",
       "      <td>73</td>\n",
       "      <td>4</td>\n",
       "      <td>3</td>\n",
       "      <td>4</td>\n",
       "      <td>434</td>\n",
       "      <td>11.0</td>\n",
       "    </tr>\n",
       "    <tr>\n",
       "      <th>12350.0</th>\n",
       "      <td>334.40</td>\n",
       "      <td>302</td>\n",
       "      <td>17</td>\n",
       "      <td>1</td>\n",
       "      <td>1</td>\n",
       "      <td>2</td>\n",
       "      <td>112</td>\n",
       "      <td>4.0</td>\n",
       "    </tr>\n",
       "  </tbody>\n",
       "</table>\n",
       "</div>"
      ],
      "text/plain": [
       "            Monetary  Recency  Frequency  R  F  M RFM_Segment  RFM_Score\n",
       "CustomerID                                                              \n",
       "12346.0     77183.60      317          1  1  1  4         114        6.0\n",
       "12347.0      4085.18       31        171  3  4  4         344       11.0\n",
       "12348.0      1797.24       67         31  2  2  4         224        8.0\n",
       "12349.0      1757.55       10         73  4  3  4         434       11.0\n",
       "12350.0       334.40      302         17  1  1  2         112        4.0"
      ]
     },
     "execution_count": 41,
     "metadata": {},
     "output_type": "execute_result"
    }
   ],
   "source": [
    "# Build RFM Segment and RFM Score\n",
    "def add_rfm(x) : return str(x['R']) + str(x['F']) + str(x['M'])\n",
    "rfm['RFM_Segment'] = rfm.apply(add_rfm,axis=1 )\n",
    "rfm['RFM_Score'] = rfm[['R','F','M']].sum(axis=1)\n",
    "\n",
    "rfm.head()"
   ]
  },
  {
   "cell_type": "markdown",
   "metadata": {},
   "source": [
    "【Note】:\n",
    "- 我们会对近期活跃的客户比近期不活跃的客户进行评分，因为每家公司都希望自己的客户是近期的客户\n",
    "- 我们会给“频率”和“货币价值”贴上更高的标签，因为我们希望客户花更多的钱，更频繁地光顾(这与最近的订单不同)。"
   ]
  },
  {
   "cell_type": "markdown",
   "metadata": {},
   "source": [
    "#### 在将RFM细分市场用于目标市场或其他业务应用程序之前，最好先调查细分市场的大小。"
   ]
  },
  {
   "cell_type": "markdown",
   "metadata": {},
   "source": [
    "### "
   ]
  },
  {
   "cell_type": "code",
   "execution_count": 42,
   "metadata": {},
   "outputs": [
    {
     "data": {
      "text/plain": [
       "RFM_Segment\n",
       "444    398\n",
       "111    382\n",
       "344    251\n",
       "122    192\n",
       "211    170\n",
       "dtype: int64"
      ]
     },
     "execution_count": 42,
     "metadata": {},
     "output_type": "execute_result"
    }
   ],
   "source": [
    "rfm.groupby(['RFM_Segment']).size().sort_values(ascending=False)[:5]"
   ]
  },
  {
   "cell_type": "code",
   "execution_count": 43,
   "metadata": {},
   "outputs": [
    {
     "data": {
      "text/html": [
       "<div>\n",
       "<style scoped>\n",
       "    .dataframe tbody tr th:only-of-type {\n",
       "        vertical-align: middle;\n",
       "    }\n",
       "\n",
       "    .dataframe tbody tr th {\n",
       "        vertical-align: top;\n",
       "    }\n",
       "\n",
       "    .dataframe thead th {\n",
       "        text-align: right;\n",
       "    }\n",
       "</style>\n",
       "<table border=\"1\" class=\"dataframe\">\n",
       "  <thead>\n",
       "    <tr style=\"text-align: right;\">\n",
       "      <th></th>\n",
       "      <th>Monetary</th>\n",
       "      <th>Recency</th>\n",
       "      <th>Frequency</th>\n",
       "      <th>R</th>\n",
       "      <th>F</th>\n",
       "      <th>M</th>\n",
       "      <th>RFM_Segment</th>\n",
       "      <th>RFM_Score</th>\n",
       "    </tr>\n",
       "    <tr>\n",
       "      <th>CustomerID</th>\n",
       "      <th></th>\n",
       "      <th></th>\n",
       "      <th></th>\n",
       "      <th></th>\n",
       "      <th></th>\n",
       "      <th></th>\n",
       "      <th></th>\n",
       "      <th></th>\n",
       "    </tr>\n",
       "  </thead>\n",
       "  <tbody>\n",
       "    <tr>\n",
       "      <th>12353.0</th>\n",
       "      <td>89.00</td>\n",
       "      <td>195</td>\n",
       "      <td>4</td>\n",
       "      <td>1</td>\n",
       "      <td>1</td>\n",
       "      <td>1</td>\n",
       "      <td>111</td>\n",
       "      <td>3.0</td>\n",
       "    </tr>\n",
       "    <tr>\n",
       "      <th>12361.0</th>\n",
       "      <td>189.90</td>\n",
       "      <td>279</td>\n",
       "      <td>10</td>\n",
       "      <td>1</td>\n",
       "      <td>1</td>\n",
       "      <td>1</td>\n",
       "      <td>111</td>\n",
       "      <td>3.0</td>\n",
       "    </tr>\n",
       "    <tr>\n",
       "      <th>12401.0</th>\n",
       "      <td>84.30</td>\n",
       "      <td>295</td>\n",
       "      <td>5</td>\n",
       "      <td>1</td>\n",
       "      <td>1</td>\n",
       "      <td>1</td>\n",
       "      <td>111</td>\n",
       "      <td>3.0</td>\n",
       "    </tr>\n",
       "    <tr>\n",
       "      <th>12402.0</th>\n",
       "      <td>225.60</td>\n",
       "      <td>315</td>\n",
       "      <td>11</td>\n",
       "      <td>1</td>\n",
       "      <td>1</td>\n",
       "      <td>1</td>\n",
       "      <td>111</td>\n",
       "      <td>3.0</td>\n",
       "    </tr>\n",
       "    <tr>\n",
       "      <th>12441.0</th>\n",
       "      <td>173.55</td>\n",
       "      <td>358</td>\n",
       "      <td>11</td>\n",
       "      <td>1</td>\n",
       "      <td>1</td>\n",
       "      <td>1</td>\n",
       "      <td>111</td>\n",
       "      <td>3.0</td>\n",
       "    </tr>\n",
       "  </tbody>\n",
       "</table>\n",
       "</div>"
      ],
      "text/plain": [
       "            Monetary  Recency  Frequency  R  F  M RFM_Segment  RFM_Score\n",
       "CustomerID                                                              \n",
       "12353.0        89.00      195          4  1  1  1         111        3.0\n",
       "12361.0       189.90      279         10  1  1  1         111        3.0\n",
       "12401.0        84.30      295          5  1  1  1         111        3.0\n",
       "12402.0       225.60      315         11  1  1  1         111        3.0\n",
       "12441.0       173.55      358         11  1  1  1         111        3.0"
      ]
     },
     "execution_count": 43,
     "metadata": {},
     "output_type": "execute_result"
    }
   ],
   "source": [
    "# 过滤 RFM 分层模型 ，选取 层次为‘111’的前5个用户\n",
    "rfm[rfm['RFM_Segment'] == '111'].head()"
   ]
  },
  {
   "cell_type": "code",
   "execution_count": 44,
   "metadata": {},
   "outputs": [
    {
     "data": {
      "text/html": [
       "<div>\n",
       "<style scoped>\n",
       "    .dataframe tbody tr th:only-of-type {\n",
       "        vertical-align: middle;\n",
       "    }\n",
       "\n",
       "    .dataframe tbody tr th {\n",
       "        vertical-align: top;\n",
       "    }\n",
       "\n",
       "    .dataframe thead tr th {\n",
       "        text-align: left;\n",
       "    }\n",
       "\n",
       "    .dataframe thead tr:last-of-type th {\n",
       "        text-align: right;\n",
       "    }\n",
       "</style>\n",
       "<table border=\"1\" class=\"dataframe\">\n",
       "  <thead>\n",
       "    <tr>\n",
       "      <th></th>\n",
       "      <th>Recency</th>\n",
       "      <th>Frequency</th>\n",
       "      <th colspan=\"2\" halign=\"left\">Monetary</th>\n",
       "    </tr>\n",
       "    <tr>\n",
       "      <th></th>\n",
       "      <th>mean</th>\n",
       "      <th>mean</th>\n",
       "      <th>mean</th>\n",
       "      <th>count</th>\n",
       "    </tr>\n",
       "    <tr>\n",
       "      <th>RFM_Score</th>\n",
       "      <th></th>\n",
       "      <th></th>\n",
       "      <th></th>\n",
       "      <th></th>\n",
       "    </tr>\n",
       "  </thead>\n",
       "  <tbody>\n",
       "    <tr>\n",
       "      <th>3.0</th>\n",
       "      <td>255.2</td>\n",
       "      <td>8.1</td>\n",
       "      <td>154.6</td>\n",
       "      <td>382</td>\n",
       "    </tr>\n",
       "    <tr>\n",
       "      <th>4.0</th>\n",
       "      <td>178.4</td>\n",
       "      <td>13.9</td>\n",
       "      <td>237.9</td>\n",
       "      <td>376</td>\n",
       "    </tr>\n",
       "    <tr>\n",
       "      <th>5.0</th>\n",
       "      <td>151.1</td>\n",
       "      <td>20.2</td>\n",
       "      <td>365.7</td>\n",
       "      <td>495</td>\n",
       "    </tr>\n",
       "    <tr>\n",
       "      <th>6.0</th>\n",
       "      <td>96.0</td>\n",
       "      <td>27.0</td>\n",
       "      <td>795.2</td>\n",
       "      <td>478</td>\n",
       "    </tr>\n",
       "    <tr>\n",
       "      <th>7.0</th>\n",
       "      <td>77.3</td>\n",
       "      <td>37.2</td>\n",
       "      <td>727.5</td>\n",
       "      <td>450</td>\n",
       "    </tr>\n",
       "    <tr>\n",
       "      <th>8.0</th>\n",
       "      <td>60.7</td>\n",
       "      <td>52.5</td>\n",
       "      <td>971.1</td>\n",
       "      <td>458</td>\n",
       "    </tr>\n",
       "    <tr>\n",
       "      <th>9.0</th>\n",
       "      <td>47.4</td>\n",
       "      <td>77.1</td>\n",
       "      <td>1354.4</td>\n",
       "      <td>404</td>\n",
       "    </tr>\n",
       "    <tr>\n",
       "      <th>10.0</th>\n",
       "      <td>33.2</td>\n",
       "      <td>113.5</td>\n",
       "      <td>1893.4</td>\n",
       "      <td>437</td>\n",
       "    </tr>\n",
       "    <tr>\n",
       "      <th>11.0</th>\n",
       "      <td>20.5</td>\n",
       "      <td>186.7</td>\n",
       "      <td>4150.3</td>\n",
       "      <td>419</td>\n",
       "    </tr>\n",
       "    <tr>\n",
       "      <th>12.0</th>\n",
       "      <td>7.4</td>\n",
       "      <td>363.4</td>\n",
       "      <td>9484.0</td>\n",
       "      <td>398</td>\n",
       "    </tr>\n",
       "  </tbody>\n",
       "</table>\n",
       "</div>"
      ],
      "text/plain": [
       "          Recency Frequency Monetary      \n",
       "             mean      mean     mean count\n",
       "RFM_Score                                 \n",
       "3.0         255.2       8.1    154.6   382\n",
       "4.0         178.4      13.9    237.9   376\n",
       "5.0         151.1      20.2    365.7   495\n",
       "6.0          96.0      27.0    795.2   478\n",
       "7.0          77.3      37.2    727.5   450\n",
       "8.0          60.7      52.5    971.1   458\n",
       "9.0          47.4      77.1   1354.4   404\n",
       "10.0         33.2     113.5   1893.4   437\n",
       "11.0         20.5     186.7   4150.3   419\n",
       "12.0          7.4     363.4   9484.0   398"
      ]
     },
     "execution_count": 44,
     "metadata": {},
     "output_type": "execute_result"
    }
   ],
   "source": [
    "rfm.groupby('RFM_Score').agg({'Recency': 'mean','Frequency': 'mean',\n",
    "                             'Monetary': ['mean', 'count'] }).round(1)"
   ]
  },
  {
   "cell_type": "markdown",
   "metadata": {},
   "source": [
    "使用 RFM 评分将用户进行划分， 重要价值用户/一般用户/潜在用户"
   ]
  },
  {
   "cell_type": "code",
   "execution_count": 45,
   "metadata": {},
   "outputs": [
    {
     "data": {
      "text/html": [
       "<div>\n",
       "<style scoped>\n",
       "    .dataframe tbody tr th:only-of-type {\n",
       "        vertical-align: middle;\n",
       "    }\n",
       "\n",
       "    .dataframe tbody tr th {\n",
       "        vertical-align: top;\n",
       "    }\n",
       "\n",
       "    .dataframe thead tr th {\n",
       "        text-align: left;\n",
       "    }\n",
       "\n",
       "    .dataframe thead tr:last-of-type th {\n",
       "        text-align: right;\n",
       "    }\n",
       "</style>\n",
       "<table border=\"1\" class=\"dataframe\">\n",
       "  <thead>\n",
       "    <tr>\n",
       "      <th></th>\n",
       "      <th>Recency</th>\n",
       "      <th>Frequency</th>\n",
       "      <th colspan=\"2\" halign=\"left\">Monetary</th>\n",
       "    </tr>\n",
       "    <tr>\n",
       "      <th></th>\n",
       "      <th>mean</th>\n",
       "      <th>mean</th>\n",
       "      <th>mean</th>\n",
       "      <th>count</th>\n",
       "    </tr>\n",
       "    <tr>\n",
       "      <th>General_Segment</th>\n",
       "      <th></th>\n",
       "      <th></th>\n",
       "      <th></th>\n",
       "      <th></th>\n",
       "    </tr>\n",
       "  </thead>\n",
       "  <tbody>\n",
       "    <tr>\n",
       "      <th>Bronze</th>\n",
       "      <td>191.0</td>\n",
       "      <td>14.6</td>\n",
       "      <td>263.0</td>\n",
       "      <td>1253</td>\n",
       "    </tr>\n",
       "    <tr>\n",
       "      <th>Gold</th>\n",
       "      <td>20.8</td>\n",
       "      <td>217.3</td>\n",
       "      <td>5056.7</td>\n",
       "      <td>1254</td>\n",
       "    </tr>\n",
       "    <tr>\n",
       "      <th>Sliver</th>\n",
       "      <td>71.3</td>\n",
       "      <td>47.4</td>\n",
       "      <td>949.4</td>\n",
       "      <td>1790</td>\n",
       "    </tr>\n",
       "  </tbody>\n",
       "</table>\n",
       "</div>"
      ],
      "text/plain": [
       "                Recency Frequency Monetary      \n",
       "                   mean      mean     mean count\n",
       "General_Segment                                 \n",
       "Bronze            191.0      14.6    263.0  1253\n",
       "Gold               20.8     217.3   5056.7  1254\n",
       "Sliver             71.3      47.4    949.4  1790"
      ]
     },
     "execution_count": 45,
     "metadata": {},
     "output_type": "execute_result"
    }
   ],
   "source": [
    "def segments (df) :\n",
    "    if df['RFM_Score'] > 9:\n",
    "        return 'Gold'\n",
    "    elif (df['RFM_Score'] >5) and (df['RFM_Score'] <= 9) :\n",
    "        return 'Sliver'\n",
    "    else :\n",
    "        return 'Bronze'\n",
    "\n",
    "rfm['General_Segment'] = rfm.apply(segments , axis = 1)\n",
    "rfm.groupby('General_Segment').agg({'Recency' :'mean',\n",
    "                                   'Frequency' : 'mean',\n",
    "                                   'Monetary' : ['mean', 'count']}).round(1)"
   ]
  },
  {
   "cell_type": "markdown",
   "metadata": {},
   "source": [
    "### K-Means 挖掘价值用户"
   ]
  },
  {
   "cell_type": "markdown",
   "metadata": {},
   "source": [
    "K-Means算法的应用有以下要点：\n",
    "- 标签的分布是对称的，not skewed；\n",
    "    - 使用对数变换改变分布，且对数变换只适用于大于零的数值\n",
    "- 消除量纲的影响，即均值、方差需要标准化\n",
    "    - 因为 standardization 会产生负值 \n",
    "- 先 log ——> standardization\n",
    "- K值得选取\n",
    "    - 可视化方法： 肘部法 （Elbow Criterion）\n",
    "    - 数学方法：轮廓系数\n",
    "    - 实验和假设的方法"
   ]
  },
  {
   "cell_type": "code",
   "execution_count": 46,
   "metadata": {},
   "outputs": [],
   "source": [
    "from sklearn.preprocessing import StandardScaler\n",
    "from sklearn.cluster import KMeans"
   ]
  },
  {
   "cell_type": "code",
   "execution_count": 47,
   "metadata": {},
   "outputs": [],
   "source": [
    "#### 对数变换 (Logarithmic transformation)\n",
    "rfm_log = rfm[['Recency', 'Frequency', 'Monetary']].apply(np.log, axis=1)"
   ]
  },
  {
   "cell_type": "code",
   "execution_count": 48,
   "metadata": {
    "scrolled": false
   },
   "outputs": [
    {
     "data": {
      "image/png": "[encoded data removed]",
      "text/plain": [
       "<Figure size 720x864 with 3 Axes>"
      ]
     },
     "metadata": {},
     "output_type": "display_data"
    }
   ],
   "source": [
    "#plot the distribution of RFM values\n",
    "f,ax=plt.subplots(figsize=(10,12))\n",
    "plt.subplot(3,1,1);sns.distplot(rfm_log.Recency,label='Recency')\n",
    "plt.subplot(3,1,2);sns.distplot(rfm_log.Frequency,label='Frequency')\n",
    "plt.subplot(3,1,3);sns.distplot(rfm_log.Monetary,label='Monetary')\n",
    "plt.show()"
   ]
  },
  {
   "cell_type": "markdown",
   "metadata": {},
   "source": [
    "标准化（Standardization）"
   ]
  },
  {
   "cell_type": "code",
   "execution_count": 49,
   "metadata": {},
   "outputs": [],
   "source": [
    "#Normalize the variables with StandardScaler\n",
    "\n",
    "scaler = StandardScaler()\n",
    "scaler.fit(rfm_log)\n",
    "#Store it separately for clustering\n",
    "rfm_normalized=scaler.transform(rfm_log)"
   ]
  },
  {
   "cell_type": "markdown",
   "metadata": {},
   "source": [
    "####  寻找最佳参数 k 值\n",
    "- Plot the number of clusters against within-cluster sum-of-squared-errors (SSE) - sum of squared distances from every data point to their cluster center\n",
    "- Identify an \"elbow\" in the plot\n",
    "- Elbow - a point representing an \"optimal\" number of clusters"
   ]
  },
  {
   "cell_type": "code",
   "execution_count": 50,
   "metadata": {},
   "outputs": [],
   "source": [
    "### 寻找最佳参数 k 值\n",
    "k_range = range(1, 8)\n",
    "inertias = []\n",
    "for k in k_range:\n",
    "    kc = KMeans(n_clusters = k, random_state = 1)\n",
    "    kc.fit(rfm_normalized)\n",
    "    inertias.append(kc.inertia_)"
   ]
  },
  {
   "cell_type": "code",
   "execution_count": 51,
   "metadata": {},
   "outputs": [
    {
     "data": {
      "image/png": "[encoded data removed]",
      "text/plain": [
       "<Figure size 720x432 with 1 Axes>"
      ]
     },
     "metadata": {},
     "output_type": "display_data"
    }
   ],
   "source": [
    "#plot ks vs inertias\n",
    "f,ax = plt.subplots(figsize=(10,6))\n",
    "plt.plot(k_range,inertias,'-o')\n",
    "plt.xlabel('Number of clusters,k')\n",
    "plt.ylabel('Inertia')\n",
    "plt.title('Which is the best number for KMeans')\n",
    "plt.show()"
   ]
  },
  {
   "cell_type": "markdown",
   "metadata": {},
   "source": [
    "#### 使用模型进行用户聚类"
   ]
  },
  {
   "cell_type": "code",
   "execution_count": 52,
   "metadata": {},
   "outputs": [
    {
     "data": {
      "text/html": [
       "<div>\n",
       "<style scoped>\n",
       "    .dataframe tbody tr th:only-of-type {\n",
       "        vertical-align: middle;\n",
       "    }\n",
       "\n",
       "    .dataframe tbody tr th {\n",
       "        vertical-align: top;\n",
       "    }\n",
       "\n",
       "    .dataframe thead tr th {\n",
       "        text-align: left;\n",
       "    }\n",
       "\n",
       "    .dataframe thead tr:last-of-type th {\n",
       "        text-align: right;\n",
       "    }\n",
       "</style>\n",
       "<table border=\"1\" class=\"dataframe\">\n",
       "  <thead>\n",
       "    <tr>\n",
       "      <th></th>\n",
       "      <th>Recency</th>\n",
       "      <th>Frequency</th>\n",
       "      <th colspan=\"2\" halign=\"left\">Monetary</th>\n",
       "    </tr>\n",
       "    <tr>\n",
       "      <th></th>\n",
       "      <th>mean</th>\n",
       "      <th>mean</th>\n",
       "      <th>mean</th>\n",
       "      <th>count</th>\n",
       "    </tr>\n",
       "    <tr>\n",
       "      <th>k_cluster</th>\n",
       "      <th></th>\n",
       "      <th></th>\n",
       "      <th></th>\n",
       "      <th></th>\n",
       "    </tr>\n",
       "  </thead>\n",
       "  <tbody>\n",
       "    <tr>\n",
       "      <th>0</th>\n",
       "      <td>67.0</td>\n",
       "      <td>58.0</td>\n",
       "      <td>1063.0</td>\n",
       "      <td>1814</td>\n",
       "    </tr>\n",
       "    <tr>\n",
       "      <th>1</th>\n",
       "      <td>16.0</td>\n",
       "      <td>244.0</td>\n",
       "      <td>5922.0</td>\n",
       "      <td>1016</td>\n",
       "    </tr>\n",
       "    <tr>\n",
       "      <th>2</th>\n",
       "      <td>173.0</td>\n",
       "      <td>15.0</td>\n",
       "      <td>290.0</td>\n",
       "      <td>1467</td>\n",
       "    </tr>\n",
       "  </tbody>\n",
       "</table>\n",
       "</div>"
      ],
      "text/plain": [
       "          Recency Frequency Monetary      \n",
       "             mean      mean     mean count\n",
       "k_cluster                                 \n",
       "0            67.0      58.0   1063.0  1814\n",
       "1            16.0     244.0   5922.0  1016\n",
       "2           173.0      15.0    290.0  1467"
      ]
     },
     "execution_count": 52,
     "metadata": {},
     "output_type": "execute_result"
    }
   ],
   "source": [
    "k_range = KMeans(n_clusters=3, random_state=1)\n",
    "k_range.fit(rfm_normalized)\n",
    "\n",
    "cluster_labels = k_range.labels_\n",
    "\n",
    "rfm_k = rfm[['Recency', 'Frequency', 'Monetary']]\n",
    "rfm_k3 = rfm_k.assign(k_cluster = cluster_labels)\n",
    "\n",
    "#Calculate average RFM values and sizes for each cluster\n",
    "rfm_k3.groupby('k_cluster').agg({'Recency':'mean','Frequency':'mean','Monetary':['mean','count']}).round(0)"
   ]
  },
  {
   "cell_type": "code",
   "execution_count": 53,
   "metadata": {},
   "outputs": [
    {
     "data": {
      "text/html": [
       "<div>\n",
       "<style scoped>\n",
       "    .dataframe tbody tr th:only-of-type {\n",
       "        vertical-align: middle;\n",
       "    }\n",
       "\n",
       "    .dataframe tbody tr th {\n",
       "        vertical-align: top;\n",
       "    }\n",
       "\n",
       "    .dataframe thead th {\n",
       "        text-align: right;\n",
       "    }\n",
       "</style>\n",
       "<table border=\"1\" class=\"dataframe\">\n",
       "  <thead>\n",
       "    <tr style=\"text-align: right;\">\n",
       "      <th></th>\n",
       "      <th>Monetary</th>\n",
       "      <th>Recency</th>\n",
       "      <th>Frequency</th>\n",
       "      <th>R</th>\n",
       "      <th>F</th>\n",
       "      <th>M</th>\n",
       "      <th>RFM_Segment</th>\n",
       "      <th>RFM_Score</th>\n",
       "      <th>General_Segment</th>\n",
       "    </tr>\n",
       "    <tr>\n",
       "      <th>CustomerID</th>\n",
       "      <th></th>\n",
       "      <th></th>\n",
       "      <th></th>\n",
       "      <th></th>\n",
       "      <th></th>\n",
       "      <th></th>\n",
       "      <th></th>\n",
       "      <th></th>\n",
       "      <th></th>\n",
       "    </tr>\n",
       "  </thead>\n",
       "  <tbody>\n",
       "    <tr>\n",
       "      <th>12346.0</th>\n",
       "      <td>77183.60</td>\n",
       "      <td>317</td>\n",
       "      <td>1</td>\n",
       "      <td>1</td>\n",
       "      <td>1</td>\n",
       "      <td>4</td>\n",
       "      <td>114</td>\n",
       "      <td>6.0</td>\n",
       "      <td>Sliver</td>\n",
       "    </tr>\n",
       "    <tr>\n",
       "      <th>12347.0</th>\n",
       "      <td>4085.18</td>\n",
       "      <td>31</td>\n",
       "      <td>171</td>\n",
       "      <td>3</td>\n",
       "      <td>4</td>\n",
       "      <td>4</td>\n",
       "      <td>344</td>\n",
       "      <td>11.0</td>\n",
       "      <td>Gold</td>\n",
       "    </tr>\n",
       "    <tr>\n",
       "      <th>12348.0</th>\n",
       "      <td>1797.24</td>\n",
       "      <td>67</td>\n",
       "      <td>31</td>\n",
       "      <td>2</td>\n",
       "      <td>2</td>\n",
       "      <td>4</td>\n",
       "      <td>224</td>\n",
       "      <td>8.0</td>\n",
       "      <td>Sliver</td>\n",
       "    </tr>\n",
       "    <tr>\n",
       "      <th>12349.0</th>\n",
       "      <td>1757.55</td>\n",
       "      <td>10</td>\n",
       "      <td>73</td>\n",
       "      <td>4</td>\n",
       "      <td>3</td>\n",
       "      <td>4</td>\n",
       "      <td>434</td>\n",
       "      <td>11.0</td>\n",
       "      <td>Gold</td>\n",
       "    </tr>\n",
       "    <tr>\n",
       "      <th>12350.0</th>\n",
       "      <td>334.40</td>\n",
       "      <td>302</td>\n",
       "      <td>17</td>\n",
       "      <td>1</td>\n",
       "      <td>1</td>\n",
       "      <td>2</td>\n",
       "      <td>112</td>\n",
       "      <td>4.0</td>\n",
       "      <td>Bronze</td>\n",
       "    </tr>\n",
       "  </tbody>\n",
       "</table>\n",
       "</div>"
      ],
      "text/plain": [
       "            Monetary  Recency  Frequency  R  F  M RFM_Segment  RFM_Score  \\\n",
       "CustomerID                                                                 \n",
       "12346.0     77183.60      317          1  1  1  4         114        6.0   \n",
       "12347.0      4085.18       31        171  3  4  4         344       11.0   \n",
       "12348.0      1797.24       67         31  2  2  4         224        8.0   \n",
       "12349.0      1757.55       10         73  4  3  4         434       11.0   \n",
       "12350.0       334.40      302         17  1  1  2         112        4.0   \n",
       "\n",
       "           General_Segment  \n",
       "CustomerID                  \n",
       "12346.0             Sliver  \n",
       "12347.0               Gold  \n",
       "12348.0             Sliver  \n",
       "12349.0               Gold  \n",
       "12350.0             Bronze  "
      ]
     },
     "execution_count": 53,
     "metadata": {},
     "output_type": "execute_result"
    }
   ],
   "source": [
    "rfm.head()"
   ]
  },
  {
   "cell_type": "markdown",
   "metadata": {},
   "source": [
    "#### 理解、对比不同层级的用户\n",
    "- 市场调查技术，以比较不同的细分市场\n",
    "- 每个层次属性的可视化表示\n",
    "- 需要先归一化化数据(中心和规模)\n",
    "- 绘制每个层次中每个属性的平均规范化值"
   ]
  },
  {
   "cell_type": "code",
   "execution_count": 54,
   "metadata": {},
   "outputs": [
    {
     "data": {
      "text/html": [
       "<div>\n",
       "<style scoped>\n",
       "    .dataframe tbody tr th:only-of-type {\n",
       "        vertical-align: middle;\n",
       "    }\n",
       "\n",
       "    .dataframe tbody tr th {\n",
       "        vertical-align: top;\n",
       "    }\n",
       "\n",
       "    .dataframe thead th {\n",
       "        text-align: right;\n",
       "    }\n",
       "</style>\n",
       "<table border=\"1\" class=\"dataframe\">\n",
       "  <thead>\n",
       "    <tr style=\"text-align: right;\">\n",
       "      <th></th>\n",
       "      <th>CustomerID</th>\n",
       "      <th>General_Segment</th>\n",
       "      <th>k_cluster</th>\n",
       "      <th>Metric</th>\n",
       "      <th>Value</th>\n",
       "    </tr>\n",
       "  </thead>\n",
       "  <tbody>\n",
       "    <tr>\n",
       "      <th>0</th>\n",
       "      <td>12346.0</td>\n",
       "      <td>Sliver</td>\n",
       "      <td>0</td>\n",
       "      <td>Recency</td>\n",
       "      <td>1.401362</td>\n",
       "    </tr>\n",
       "    <tr>\n",
       "      <th>1</th>\n",
       "      <td>12347.0</td>\n",
       "      <td>Gold</td>\n",
       "      <td>1</td>\n",
       "      <td>Recency</td>\n",
       "      <td>-0.224485</td>\n",
       "    </tr>\n",
       "    <tr>\n",
       "      <th>2</th>\n",
       "      <td>12348.0</td>\n",
       "      <td>Sliver</td>\n",
       "      <td>0</td>\n",
       "      <td>Recency</td>\n",
       "      <td>0.314481</td>\n",
       "    </tr>\n",
       "    <tr>\n",
       "      <th>3</th>\n",
       "      <td>12349.0</td>\n",
       "      <td>Gold</td>\n",
       "      <td>1</td>\n",
       "      <td>Recency</td>\n",
       "      <td>-1.015692</td>\n",
       "    </tr>\n",
       "    <tr>\n",
       "      <th>4</th>\n",
       "      <td>12350.0</td>\n",
       "      <td>Bronze</td>\n",
       "      <td>2</td>\n",
       "      <td>Recency</td>\n",
       "      <td>1.367463</td>\n",
       "    </tr>\n",
       "  </tbody>\n",
       "</table>\n",
       "</div>"
      ],
      "text/plain": [
       "   CustomerID General_Segment  k_cluster   Metric     Value\n",
       "0     12346.0          Sliver          0  Recency  1.401362\n",
       "1     12347.0            Gold          1  Recency -0.224485\n",
       "2     12348.0          Sliver          0  Recency  0.314481\n",
       "3     12349.0            Gold          1  Recency -1.015692\n",
       "4     12350.0          Bronze          2  Recency  1.367463"
      ]
     },
     "execution_count": 54,
     "metadata": {},
     "output_type": "execute_result"
    }
   ],
   "source": [
    "rfm_k = rfm[['Recency', 'Frequency', 'Monetary']]\n",
    "rfm_normalized1 = pd.DataFrame(rfm_normalized, index=rfm_k.index,columns=rfm_k.columns)\n",
    "rfm_normalized1['k_cluster'] = k_range.labels_\n",
    "rfm_normalized1['General_Segment'] = rfm['General_Segment']\n",
    "rfm_normalized1.reset_index(inplace = True)\n",
    "\n",
    "#Melt the data into a long format so RFM values and metric names are stored in 1 column each\n",
    "rfm_melt = pd.melt(rfm_normalized1,id_vars=['CustomerID','General_Segment','k_cluster'],value_vars=['Recency', 'Frequency', 'Monetary'],\n",
    "var_name='Metric',value_name='Value')\n",
    "rfm_melt.head()"
   ]
  },
  {
   "cell_type": "markdown",
   "metadata": {},
   "source": [
    "通过RFM模型得到的Gold \\ Silver \\ Bronze，与 KMeans 你和得到的 1, 0, 2 分别相对应，最具有价值得用户群体是 K_cluster = 1 所应用得用户"
   ]
  },
  {
   "cell_type": "code",
   "execution_count": 55,
   "metadata": {},
   "outputs": [
    {
     "data": {
      "image/png": "[encoded data removed]",
      "text/plain": [
       "<Figure size 1080x432 with 2 Axes>"
      ]
     },
     "metadata": {},
     "output_type": "display_data"
    }
   ],
   "source": [
    "import seaborn as sns\n",
    "f, (ax1, ax2) = plt.subplots(1,2, figsize=(15, 6))\n",
    "sns.lineplot(x = 'Metric', y = 'Value', hue = 'General_Segment', data = rfm_melt,ax=ax1)\n",
    "\n",
    "# a snake plot with K-Means\n",
    "sns.lineplot(x = 'Metric', y = 'Value', hue ='k_cluster', data = rfm_melt,ax=ax2)\n",
    "\n",
    "plt.suptitle(\"Plot of RFM\",fontsize=24) #make title fontsize subtitle \n",
    "plt.show()\n"
   ]
  },
  {
   "cell_type": "code",
   "execution_count": 56,
   "metadata": {},
   "outputs": [
    {
     "data": {
      "text/html": [
       "<div>\n",
       "<style scoped>\n",
       "    .dataframe tbody tr th:only-of-type {\n",
       "        vertical-align: middle;\n",
       "    }\n",
       "\n",
       "    .dataframe tbody tr th {\n",
       "        vertical-align: top;\n",
       "    }\n",
       "\n",
       "    .dataframe thead th {\n",
       "        text-align: right;\n",
       "    }\n",
       "</style>\n",
       "<table border=\"1\" class=\"dataframe\">\n",
       "  <thead>\n",
       "    <tr style=\"text-align: right;\">\n",
       "      <th></th>\n",
       "      <th>Recency</th>\n",
       "      <th>Frequency</th>\n",
       "      <th>Monetary</th>\n",
       "      <th>k_cluster</th>\n",
       "    </tr>\n",
       "    <tr>\n",
       "      <th>CustomerID</th>\n",
       "      <th></th>\n",
       "      <th></th>\n",
       "      <th></th>\n",
       "      <th></th>\n",
       "    </tr>\n",
       "  </thead>\n",
       "  <tbody>\n",
       "    <tr>\n",
       "      <th>12346.0</th>\n",
       "      <td>317</td>\n",
       "      <td>1</td>\n",
       "      <td>77183.60</td>\n",
       "      <td>0</td>\n",
       "    </tr>\n",
       "    <tr>\n",
       "      <th>12347.0</th>\n",
       "      <td>31</td>\n",
       "      <td>171</td>\n",
       "      <td>4085.18</td>\n",
       "      <td>1</td>\n",
       "    </tr>\n",
       "    <tr>\n",
       "      <th>12348.0</th>\n",
       "      <td>67</td>\n",
       "      <td>31</td>\n",
       "      <td>1797.24</td>\n",
       "      <td>0</td>\n",
       "    </tr>\n",
       "    <tr>\n",
       "      <th>12349.0</th>\n",
       "      <td>10</td>\n",
       "      <td>73</td>\n",
       "      <td>1757.55</td>\n",
       "      <td>1</td>\n",
       "    </tr>\n",
       "    <tr>\n",
       "      <th>12350.0</th>\n",
       "      <td>302</td>\n",
       "      <td>17</td>\n",
       "      <td>334.40</td>\n",
       "      <td>2</td>\n",
       "    </tr>\n",
       "  </tbody>\n",
       "</table>\n",
       "</div>"
      ],
      "text/plain": [
       "            Recency  Frequency  Monetary  k_cluster\n",
       "CustomerID                                         \n",
       "12346.0         317          1  77183.60          0\n",
       "12347.0          31        171   4085.18          1\n",
       "12348.0          67         31   1797.24          0\n",
       "12349.0          10         73   1757.55          1\n",
       "12350.0         302         17    334.40          2"
      ]
     },
     "execution_count": 56,
     "metadata": {},
     "output_type": "execute_result"
    }
   ],
   "source": [
    "rfm_k3.head()"
   ]
  },
  {
   "cell_type": "markdown",
   "metadata": {},
   "source": [
    "#### 通过使用Kmeans 进行用户聚类，寻找 k_cluster = 1 得高价值用户，对其购物行为进行针对性分析，可以从以下几个方面进行，从而提供个性化得消费方案，形成智能商业模式。\n",
    "- 对高价值用户的消费习惯(购物时段)\n",
    "- 购买的商品种类得偏好\n",
    "- 购物种类的关联性（同时购买得产品）\n"
   ]
  },
  {
   "cell_type": "markdown",
   "metadata": {},
   "source": [
    "【Note】\n",
    "   在这里并未使用模型评估的方法\n",
    "    - 轮廓系数\n",
    "    - -------\n",
    "    若想要验证上面采用RFM模型以及K-Means算法所挖掘得价值用户的有效性和准确性，需要在实际应用中进行验证。"
   ]
  },
  {
   "cell_type": "markdown",
   "metadata": {},
   "source": [
    "#### 不同属性的相对重要性 (R\\F\\M)\n",
    "- 定位每个段的属性的相对重要性的有用技术\n",
    "- 计算每个层次的平均值\n",
    "- 计算每个人的平均值\n",
    "- 通过除以并减去1来计算重要性得分(确保在集群平均值等于总体平均值时返回0)"
   ]
  },
  {
   "cell_type": "code",
   "execution_count": 57,
   "metadata": {},
   "outputs": [
    {
     "data": {
      "text/html": [
       "<div>\n",
       "<style scoped>\n",
       "    .dataframe tbody tr th:only-of-type {\n",
       "        vertical-align: middle;\n",
       "    }\n",
       "\n",
       "    .dataframe tbody tr th {\n",
       "        vertical-align: top;\n",
       "    }\n",
       "\n",
       "    .dataframe thead th {\n",
       "        text-align: right;\n",
       "    }\n",
       "</style>\n",
       "<table border=\"1\" class=\"dataframe\">\n",
       "  <thead>\n",
       "    <tr style=\"text-align: right;\">\n",
       "      <th></th>\n",
       "      <th>Recency</th>\n",
       "      <th>Frequency</th>\n",
       "      <th>Monetary</th>\n",
       "    </tr>\n",
       "    <tr>\n",
       "      <th>k_cluster</th>\n",
       "      <th></th>\n",
       "      <th></th>\n",
       "      <th></th>\n",
       "    </tr>\n",
       "  </thead>\n",
       "  <tbody>\n",
       "    <tr>\n",
       "      <th>0</th>\n",
       "      <td>-0.26</td>\n",
       "      <td>-0.33</td>\n",
       "      <td>-0.45</td>\n",
       "    </tr>\n",
       "    <tr>\n",
       "      <th>1</th>\n",
       "      <td>-0.82</td>\n",
       "      <td>1.80</td>\n",
       "      <td>2.04</td>\n",
       "    </tr>\n",
       "    <tr>\n",
       "      <th>2</th>\n",
       "      <td>0.90</td>\n",
       "      <td>-0.83</td>\n",
       "      <td>-0.85</td>\n",
       "    </tr>\n",
       "  </tbody>\n",
       "</table>\n",
       "</div>"
      ],
      "text/plain": [
       "           Recency  Frequency  Monetary\n",
       "k_cluster                              \n",
       "0            -0.26      -0.33     -0.45\n",
       "1            -0.82       1.80      2.04\n",
       "2             0.90      -0.83     -0.85"
      ]
     },
     "execution_count": 57,
     "metadata": {},
     "output_type": "execute_result"
    }
   ],
   "source": [
    "# The further a ratio is from 0, the more important that attribute is for a segment relative to the total population\n",
    "cluster_avg = rfm_k3.groupby(['k_cluster']).mean()\n",
    "population_avg = rfm_k.mean()\n",
    "relative_imp = cluster_avg / population_avg - 1\n",
    "relative_imp.round(2)"
   ]
  },
  {
   "cell_type": "code",
   "execution_count": 58,
   "metadata": {},
   "outputs": [
    {
     "data": {
      "text/html": [
       "<div>\n",
       "<style scoped>\n",
       "    .dataframe tbody tr th:only-of-type {\n",
       "        vertical-align: middle;\n",
       "    }\n",
       "\n",
       "    .dataframe tbody tr th {\n",
       "        vertical-align: top;\n",
       "    }\n",
       "\n",
       "    .dataframe thead th {\n",
       "        text-align: right;\n",
       "    }\n",
       "</style>\n",
       "<table border=\"1\" class=\"dataframe\">\n",
       "  <thead>\n",
       "    <tr style=\"text-align: right;\">\n",
       "      <th></th>\n",
       "      <th>Monetary</th>\n",
       "      <th>Recency</th>\n",
       "      <th>Frequency</th>\n",
       "    </tr>\n",
       "    <tr>\n",
       "      <th>General_Segment</th>\n",
       "      <th></th>\n",
       "      <th></th>\n",
       "      <th></th>\n",
       "    </tr>\n",
       "  </thead>\n",
       "  <tbody>\n",
       "    <tr>\n",
       "      <th>Bronze</th>\n",
       "      <td>-0.86</td>\n",
       "      <td>1.09</td>\n",
       "      <td>-0.83</td>\n",
       "    </tr>\n",
       "    <tr>\n",
       "      <th>Gold</th>\n",
       "      <td>1.60</td>\n",
       "      <td>-0.77</td>\n",
       "      <td>1.49</td>\n",
       "    </tr>\n",
       "    <tr>\n",
       "      <th>Sliver</th>\n",
       "      <td>-0.51</td>\n",
       "      <td>-0.22</td>\n",
       "      <td>-0.46</td>\n",
       "    </tr>\n",
       "  </tbody>\n",
       "</table>\n",
       "</div>"
      ],
      "text/plain": [
       "                 Monetary  Recency  Frequency\n",
       "General_Segment                              \n",
       "Bronze              -0.86     1.09      -0.83\n",
       "Gold                 1.60    -0.77       1.49\n",
       "Sliver              -0.51    -0.22      -0.46"
      ]
     },
     "execution_count": 58,
     "metadata": {},
     "output_type": "execute_result"
    }
   ],
   "source": [
    "# the mean value in total \n",
    "total_avg = rfm.iloc[:, 0:3].mean()\n",
    "# calculate the proportional gap with total mean\n",
    "cluster_avg = rfm.groupby('General_Segment').mean().iloc[:, 0:3]\n",
    "prop_rfm = cluster_avg/total_avg - 1\n",
    "prop_rfm.round(2)"
   ]
  },
  {
   "cell_type": "markdown",
   "metadata": {},
   "source": [
    "让我们再试一试热图。热图是数据的图形表示，其中较大的值用较深的刻度表示，较小的值用较浅的刻度表示。我们可以很直观地通过颜色来比较组间的差异。"
   ]
  },
  {
   "cell_type": "code",
   "execution_count": 59,
   "metadata": {},
   "outputs": [
    {
     "data": {
      "image/png": "[encoded data removed]",
      "text/plain": [
       "<Figure size 1080x360 with 4 Axes>"
      ]
     },
     "metadata": {},
     "output_type": "display_data"
    }
   ],
   "source": [
    "# heatmap with RFM\n",
    "f, (ax1, ax2) = plt.subplots(1,2, figsize=(15, 5))\n",
    "sns.heatmap(data=relative_imp, annot=True, fmt='.2f', cmap='Blues',ax=ax1)\n",
    "ax1.set(title = \"Heatmap of K-Means\")\n",
    "\n",
    "# a snake plot with K-Means\n",
    "sns.heatmap(prop_rfm, cmap= 'Oranges', fmt= '.2f', annot = True,ax=ax2)\n",
    "ax2.set(title = \"Heatmap of RFM quantile\")\n",
    "\n",
    "plt.suptitle(\"Heat Map of RFM\",fontsize=20) #make title fontsize subtitle \n",
    "\n",
    "plt.show()"
   ]
  },
  {
   "cell_type": "markdown",
   "metadata": {},
   "source": [
    "### 价值用户挖掘结果\n",
    " - 用户画像\n",
    " - 价值用户对销售额的贡献\n"
   ]
  },
  {
   "cell_type": "code",
   "execution_count": 60,
   "metadata": {},
   "outputs": [
    {
     "data": {
      "text/html": [
       "<div>\n",
       "<style scoped>\n",
       "    .dataframe tbody tr th:only-of-type {\n",
       "        vertical-align: middle;\n",
       "    }\n",
       "\n",
       "    .dataframe tbody tr th {\n",
       "        vertical-align: top;\n",
       "    }\n",
       "\n",
       "    .dataframe thead tr th {\n",
       "        text-align: left;\n",
       "    }\n",
       "\n",
       "    .dataframe thead tr:last-of-type th {\n",
       "        text-align: right;\n",
       "    }\n",
       "</style>\n",
       "<table border=\"1\" class=\"dataframe\">\n",
       "  <thead>\n",
       "    <tr>\n",
       "      <th></th>\n",
       "      <th colspan=\"3\" halign=\"left\">Recency</th>\n",
       "      <th colspan=\"3\" halign=\"left\">Frequency</th>\n",
       "      <th colspan=\"3\" halign=\"left\">Monetary</th>\n",
       "    </tr>\n",
       "    <tr>\n",
       "      <th></th>\n",
       "      <th>mean</th>\n",
       "      <th>std</th>\n",
       "      <th>cov</th>\n",
       "      <th>mean</th>\n",
       "      <th>std</th>\n",
       "      <th>cov</th>\n",
       "      <th>mean</th>\n",
       "      <th>std</th>\n",
       "      <th>cov</th>\n",
       "    </tr>\n",
       "    <tr>\n",
       "      <th>General_Segment</th>\n",
       "      <th></th>\n",
       "      <th></th>\n",
       "      <th></th>\n",
       "      <th></th>\n",
       "      <th></th>\n",
       "      <th></th>\n",
       "      <th></th>\n",
       "      <th></th>\n",
       "      <th></th>\n",
       "    </tr>\n",
       "  </thead>\n",
       "  <tbody>\n",
       "    <tr>\n",
       "      <th>Bronze</th>\n",
       "      <td>191.0</td>\n",
       "      <td>100.8</td>\n",
       "      <td>0.5</td>\n",
       "      <td>14.6</td>\n",
       "      <td>11.4</td>\n",
       "      <td>0.8</td>\n",
       "      <td>263.0</td>\n",
       "      <td>177.7</td>\n",
       "      <td>0.7</td>\n",
       "    </tr>\n",
       "    <tr>\n",
       "      <th>Gold</th>\n",
       "      <td>20.8</td>\n",
       "      <td>22.5</td>\n",
       "      <td>1.1</td>\n",
       "      <td>217.3</td>\n",
       "      <td>360.6</td>\n",
       "      <td>1.7</td>\n",
       "      <td>5056.7</td>\n",
       "      <td>14721.6</td>\n",
       "      <td>2.9</td>\n",
       "    </tr>\n",
       "    <tr>\n",
       "      <th>Sliver</th>\n",
       "      <td>71.3</td>\n",
       "      <td>70.9</td>\n",
       "      <td>1.0</td>\n",
       "      <td>47.4</td>\n",
       "      <td>36.1</td>\n",
       "      <td>0.8</td>\n",
       "      <td>949.4</td>\n",
       "      <td>2433.2</td>\n",
       "      <td>2.6</td>\n",
       "    </tr>\n",
       "  </tbody>\n",
       "</table>\n",
       "</div>"
      ],
      "text/plain": [
       "                Recency             Frequency             Monetary           \\\n",
       "                   mean    std  cov      mean    std  cov     mean      std   \n",
       "General_Segment                                                               \n",
       "Bronze            191.0  100.8  0.5      14.6   11.4  0.8    263.0    177.7   \n",
       "Gold               20.8   22.5  1.1     217.3  360.6  1.7   5056.7  14721.6   \n",
       "Sliver             71.3   70.9  1.0      47.4   36.1  0.8    949.4   2433.2   \n",
       "\n",
       "                      \n",
       "                 cov  \n",
       "General_Segment       \n",
       "Bronze           0.7  \n",
       "Gold             2.9  \n",
       "Sliver           2.6  "
      ]
     },
     "execution_count": 60,
     "metadata": {},
     "output_type": "execute_result"
    }
   ],
   "source": [
    "# cov = coefficient of variance\n",
    "def cov(x):\n",
    "    return np.std(x)/np.mean(x)\n",
    "\n",
    "rfm.groupby('General_Segment').agg({'Recency':['mean','std',cov],'Frequency':['mean','std',cov],'Monetary':['mean','std',cov]}).round(1)"
   ]
  },
  {
   "cell_type": "markdown",
   "metadata": {},
   "source": [
    "通过之前RFM模型划分的三个层次得出的结果，可以看到\n",
    "- Gold ：平均消费次数未217次，平均消费金额 5056 英镑， 平均最近一次购买在21天左右\n",
    "- Sliver  ：平均消费次数未47次，平均消费金额 949 英镑， 平均最近一次购买在2个半月左右\n",
    "- Bronze : 平均消费次数未15次，平均消费金额 263英镑， 平均最近一次购买在半年左右\n",
    "\n",
    "比较符合实际用户层次划分消费情况"
   ]
  },
  {
   "cell_type": "code",
   "execution_count": 61,
   "metadata": {},
   "outputs": [
    {
     "data": {
      "text/html": [
       "<div>\n",
       "<style scoped>\n",
       "    .dataframe tbody tr th:only-of-type {\n",
       "        vertical-align: middle;\n",
       "    }\n",
       "\n",
       "    .dataframe tbody tr th {\n",
       "        vertical-align: top;\n",
       "    }\n",
       "\n",
       "    .dataframe thead tr th {\n",
       "        text-align: left;\n",
       "    }\n",
       "\n",
       "    .dataframe thead tr:last-of-type th {\n",
       "        text-align: right;\n",
       "    }\n",
       "</style>\n",
       "<table border=\"1\" class=\"dataframe\">\n",
       "  <thead>\n",
       "    <tr>\n",
       "      <th></th>\n",
       "      <th colspan=\"3\" halign=\"left\">Recency</th>\n",
       "      <th colspan=\"3\" halign=\"left\">Frequency</th>\n",
       "      <th colspan=\"3\" halign=\"left\">Monetary</th>\n",
       "    </tr>\n",
       "    <tr>\n",
       "      <th></th>\n",
       "      <th>mean</th>\n",
       "      <th>std</th>\n",
       "      <th>cov</th>\n",
       "      <th>mean</th>\n",
       "      <th>std</th>\n",
       "      <th>cov</th>\n",
       "      <th>mean</th>\n",
       "      <th>std</th>\n",
       "      <th>cov</th>\n",
       "    </tr>\n",
       "    <tr>\n",
       "      <th>k_cluster</th>\n",
       "      <th></th>\n",
       "      <th></th>\n",
       "      <th></th>\n",
       "      <th></th>\n",
       "      <th></th>\n",
       "      <th></th>\n",
       "      <th></th>\n",
       "      <th></th>\n",
       "      <th></th>\n",
       "    </tr>\n",
       "  </thead>\n",
       "  <tbody>\n",
       "    <tr>\n",
       "      <th>0</th>\n",
       "      <td>67.3</td>\n",
       "      <td>67.0</td>\n",
       "      <td>1.0</td>\n",
       "      <td>58.4</td>\n",
       "      <td>39.6</td>\n",
       "      <td>0.7</td>\n",
       "      <td>1062.6</td>\n",
       "      <td>2392.5</td>\n",
       "      <td>2.3</td>\n",
       "    </tr>\n",
       "    <tr>\n",
       "      <th>1</th>\n",
       "      <td>16.3</td>\n",
       "      <td>17.1</td>\n",
       "      <td>1.0</td>\n",
       "      <td>244.4</td>\n",
       "      <td>395.4</td>\n",
       "      <td>1.6</td>\n",
       "      <td>5922.4</td>\n",
       "      <td>16239.1</td>\n",
       "      <td>2.7</td>\n",
       "    </tr>\n",
       "    <tr>\n",
       "      <th>2</th>\n",
       "      <td>173.4</td>\n",
       "      <td>106.6</td>\n",
       "      <td>0.6</td>\n",
       "      <td>14.6</td>\n",
       "      <td>11.1</td>\n",
       "      <td>0.8</td>\n",
       "      <td>290.0</td>\n",
       "      <td>269.0</td>\n",
       "      <td>0.9</td>\n",
       "    </tr>\n",
       "  </tbody>\n",
       "</table>\n",
       "</div>"
      ],
      "text/plain": [
       "          Recency             Frequency             Monetary              \n",
       "             mean    std  cov      mean    std  cov     mean      std  cov\n",
       "k_cluster                                                                 \n",
       "0            67.3   67.0  1.0      58.4   39.6  0.7   1062.6   2392.5  2.3\n",
       "1            16.3   17.1  1.0     244.4  395.4  1.6   5922.4  16239.1  2.7\n",
       "2           173.4  106.6  0.6      14.6   11.1  0.8    290.0    269.0  0.9"
      ]
     },
     "execution_count": 61,
     "metadata": {},
     "output_type": "execute_result"
    }
   ],
   "source": [
    "# cov = coefficient of variance\n",
    "def cov(x):\n",
    "    return np.std(x)/np.mean(x)\n",
    "\n",
    "rfm_k3_sta=rfm_k3.groupby('k_cluster').agg({'Recency':['mean','std',cov],'Frequency':['mean','std',cov],'Monetary':['mean','std',cov]}).round(1)\n",
    "rfm_k3_sta  "
   ]
  },
  {
   "cell_type": "markdown",
   "metadata": {},
   "source": [
    "通过之前K-Means模型划分的三个层次得出的结果，可以看到\n",
    "- 0（Sliver） ：平均消费次数未59次，平均消费金额 1062 英镑， 平均最近一次购买在两个月左右\n",
    "- 1 （Gold） ：平均消费次数未244次，平均消费金额 5922 英镑， 平均最近一次购买在半个月左右\n",
    "- 2 （Bronze）: 平均消费次数未15次，平均消费金额 290英镑， 平均最近一次购买在半年左右\n",
    "\n",
    "结果比按照RFM模型进行的层次划分稍微好一点"
   ]
  },
  {
   "cell_type": "code",
   "execution_count": 62,
   "metadata": {},
   "outputs": [
    {
     "data": {
      "image/png": "[encoded data removed]",
      "text/plain": [
       "<Figure size 432x648 with 1 Axes>"
      ]
     },
     "metadata": {},
     "output_type": "display_data"
    }
   ],
   "source": [
    "# different customer category and the number of customer using K-means\n",
    "customer_num=rfm_k3.groupby('k_cluster').agg({'Recency':['count']})\n",
    "\n",
    "fig=plt.figure(figsize=(6,9))\n",
    "test=[1815,1462,1020]\n",
    "labels = [u'cluster0',u'cluster2',u'cluster1']\n",
    "patches,text1,text2 = plt.pie(test,\n",
    "                      labels=labels,\n",
    "                      autopct = '%2.2f%%',\n",
    "                      labeldistance = 1.2,\n",
    "                   \n",
    "                      startangle=90,\n",
    "                      textprops = {'fontsize':12},\n",
    "                      pctdistance = 0.6,\n",
    "                      shadow=True)\n",
    "plt.axis('equal')\n",
    "plt.legend()\n",
    "plt.title('Customer Segment in %')\n",
    "plt.show()\n"
   ]
  },
  {
   "cell_type": "code",
   "execution_count": 63,
   "metadata": {},
   "outputs": [
    {
     "data": {
      "image/png": "[encoded data removed]",
      "text/plain": [
       "<Figure size 432x648 with 1 Axes>"
      ]
     },
     "metadata": {},
     "output_type": "display_data"
    }
   ],
   "source": [
    "# different customer category and associated sales using K-means\n",
    "customer_sales=rfm_k3.groupby('k_cluster').agg({'Monetary':['sum']})\n",
    "# pie figure\n",
    "fig=plt.figure(figsize=(6,9))\n",
    "test=[1911297.113,424054.261,6034667.080]\n",
    "labels = [u'cluster0',u'cluster2',u'cluster1']\n",
    "\n",
    "patches,text1,text2 = plt.pie(test,\n",
    "                      labels=labels,\n",
    "                      autopct = '%2.2f%%',\n",
    "                      labeldistance = 1.2,\n",
    "                      shadow=False,\n",
    "                      startangle=90,\n",
    "                      pctdistance = 0.6)\n",
    "plt.axis('equal')\n",
    "plt.legend()\n",
    "plt.title('Customer Segment assocated sales in %')\n",
    "plt.show()"
   ]
  },
  {
   "cell_type": "code",
   "execution_count": 64,
   "metadata": {},
   "outputs": [
    {
     "data": {
      "text/html": [
       "<div>\n",
       "<style scoped>\n",
       "    .dataframe tbody tr th:only-of-type {\n",
       "        vertical-align: middle;\n",
       "    }\n",
       "\n",
       "    .dataframe tbody tr th {\n",
       "        vertical-align: top;\n",
       "    }\n",
       "\n",
       "    .dataframe thead tr th {\n",
       "        text-align: left;\n",
       "    }\n",
       "\n",
       "    .dataframe thead tr:last-of-type th {\n",
       "        text-align: right;\n",
       "    }\n",
       "</style>\n",
       "<table border=\"1\" class=\"dataframe\">\n",
       "  <thead>\n",
       "    <tr>\n",
       "      <th></th>\n",
       "      <th>Monetary</th>\n",
       "    </tr>\n",
       "    <tr>\n",
       "      <th></th>\n",
       "      <th>sum</th>\n",
       "    </tr>\n",
       "    <tr>\n",
       "      <th>k_cluster</th>\n",
       "      <th></th>\n",
       "    </tr>\n",
       "  </thead>\n",
       "  <tbody>\n",
       "    <tr>\n",
       "      <th>0</th>\n",
       "      <td>1927466.103</td>\n",
       "    </tr>\n",
       "    <tr>\n",
       "      <th>1</th>\n",
       "      <td>6017144.370</td>\n",
       "    </tr>\n",
       "    <tr>\n",
       "      <th>2</th>\n",
       "      <td>425407.981</td>\n",
       "    </tr>\n",
       "  </tbody>\n",
       "</table>\n",
       "</div>"
      ],
      "text/plain": [
       "              Monetary\n",
       "                   sum\n",
       "k_cluster             \n",
       "0          1927466.103\n",
       "1          6017144.370\n",
       "2           425407.981"
      ]
     },
     "execution_count": 64,
     "metadata": {},
     "output_type": "execute_result"
    }
   ],
   "source": [
    "customer_sales"
   ]
  },
  {
   "cell_type": "code",
   "execution_count": 68,
   "metadata": {},
   "outputs": [],
   "source": [
    "from sklearn.preprocessing import Normalizer, StandardScaler\n",
    "from sklearn.manifold import TSNE\n",
    "from sklearn import metrics"
   ]
  },
  {
   "cell_type": "code",
   "execution_count": 71,
   "metadata": {},
   "outputs": [
    {
     "data": {
      "text/plain": [
       "array([[ 1.40136246, -2.78496733,  3.74301399],\n",
       "       [-0.22448511,  1.1400683 ,  1.39967282],\n",
       "       [ 0.31448072, -0.16353518,  0.74493773],\n",
       "       ...,\n",
       "       [ 0.71028741, -1.29950128, -1.55687477],\n",
       "       [-2.62592379,  2.18368737,  0.76261562],\n",
       "       [-0.15988707,  0.45824278,  0.76250713]])"
      ]
     },
     "execution_count": 71,
     "metadata": {},
     "output_type": "execute_result"
    }
   ],
   "source": [
    "rfm_normalized"
   ]
  },
  {
   "cell_type": "code",
   "execution_count": 73,
   "metadata": {},
   "outputs": [
    {
     "data": {
      "image/png": "[encoded data removed]",
      "text/plain": [
       "<Figure size 432x288 with 1 Axes>"
      ]
     },
     "metadata": {},
     "output_type": "display_data"
    },
    {
     "name": "stdout",
     "output_type": "stream",
     "text": [
      "----------------------------------------------------------------------------------------------------\n"
     ]
    }
   ],
   "source": [
    "#降维\n",
    "\n",
    "tsne = TSNE(n_components=2, init='pca', random_state=0)\n",
    "X_tsne = tsne.fit_transform(rfm_normalized)\n",
    "k_range = KMeans(n_clusters=3, random_state=1)\n",
    "k_range.fit(rfm_normalized)\n",
    "# labels = KMeans(n_clusters = 3,random_state=1).fit_predict(rfm_normalized)\n",
    "cluster_labels = k_range.labels_\n",
    "\n",
    "plt.scatter(X_tsne[:, 0],X_tsne[:, 1], c=cluster_labels)\n",
    "plt.show()\n",
    "print(\"-\" * 100)\n",
    "\n",
    "\n"
   ]
  },
  {
   "cell_type": "code",
   "execution_count": 74,
   "metadata": {},
   "outputs": [
    {
     "name": "stdout",
     "output_type": "stream",
     "text": [
      "0.29370479595533555\n",
      "2955.7053023816416\n"
     ]
    }
   ],
   "source": [
    "silhouette_pred_sk = metrics.silhouette_score(rfm_normalized, cluster_labels, metric='euclidean')\n",
    "CHI_sk = metrics.calinski_harabasz_score(rfm_normalized, cluster_labels)\n",
    "print(silhouette_pred_sk)\n",
    "print(CHI_sk)"
   ]
  },
  {
   "cell_type": "markdown",
   "metadata": {},
   "source": [
    "### 总结\n",
    "\n",
    "本次分析利用Python语言对电子零售数据进行了数据分析和挖掘，计算分析主要有两个方面：\n",
    "\n",
    "（1）描述统计分析；\n",
    "\n",
    "    通过描述统计分析，我们了解了该电子商务公司的整体运营情况，计算了月销售数量、月销售总额、月均销售额、周销售量、周销售总额、周均销售额、客单价、件单价、连带率，通过这些指标我们了解到该电子商务公司月销售单数、月销售额在2011年的9月、10月以及11月有明显的增长，周销售额在星期四达到最高值。\n",
    "\n",
    "（2）使用了两种方法RFM模型以及K-Means机器学习算法挖掘价值用户。\n",
    "\n",
    "    为了挖掘价值用户，我们使用了两种方法，第一个方法是利用RFM模型对用户进行评分分组，第二个方法是利用K-Means算法对用户进行“机器学习”分组，两种方法都挖掘出价值用户，比较两种方法得出的用户画像结果，K-Means方法得出的结果更好一些，最终挖掘出的价值用户占比23.74%却贡献了72.10%的销售额。\n",
    "\n",
    "确定价值用户之后可以进一步学习价值用户的消费习惯，从而提供以消费者为中心的智能商业模式，根据实际应用情况进行多次迭代来优化价值用户挖掘的模型。"
   ]
  },
  {
   "cell_type": "code",
   "execution_count": null,
   "metadata": {},
   "outputs": [],
   "source": []
  }
 ],
 "metadata": {
  "kernelspec": {
   "display_name": "Python 3",
   "language": "python",
   "name": "python3"
  },
  "language_info": {
   "codemirror_mode": {
    "name": "ipython",
    "version": 3
   },
   "file_extension": ".py",
   "mimetype": "text/x-python",
   "name": "python",
   "nbconvert_exporter": "python",
   "pygments_lexer": "ipython3",
   "version": "3.6.4"
  }
 },
 "nbformat": 4,
 "nbformat_minor": 2
}
